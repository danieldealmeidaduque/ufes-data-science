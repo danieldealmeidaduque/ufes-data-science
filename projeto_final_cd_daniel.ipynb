{
  "cells": [
    {
      "cell_type": "markdown",
      "metadata": {
        "id": "XyXUJJwWbFN0"
      },
      "source": [
        "# Projeto Final de Ciência de Dados"
      ]
    },
    {
      "cell_type": "markdown",
      "metadata": {
        "id": "8nhTCiJUa5FG"
      },
      "source": [
        "* **Nome(s): Daniel de Almeida Duque**\n",
        "* **Matrícula(s): 2016101739**\n",
        "* **Email: daniel.duque@edu.ufes.br**\n",
        "* **Curso(s): Graduação em Engenharia de Computação**\n",
        "* **Vídeo: https://youtu.be/-HhDjuRzMSc**"
      ]
    },
    {
      "cell_type": "markdown",
      "metadata": {
        "id": "CmO0c9oT-Ai6"
      },
      "source": [
        "Considerações iniciais \n",
        "  * Durante as análises, **\"ação\"** e **\"empresa\"** serão usados como sinônimos.\n",
        "  * Análises feitas com os dados do dia 21/03. "
      ]
    },
    {
      "attachments": {},
      "cell_type": "markdown",
      "metadata": {
        "id": "jv4Er8jxPiS3"
      },
      "source": [
        "## 1. Introdução"
      ]
    },
    {
      "cell_type": "markdown",
      "metadata": {
        "id": "22TCf-iTPtvT"
      },
      "source": [
        "A partir das ferramentas de obtenção de dados _web_ (_urllib_ e _BeautifulSoup_), processamento de dados (_pandas_, _scipy_, _etc.._), visualização de dados (_matplotlib_ e _seaborn_), classificação (_sklearn_, _DecisionTreeClassifier_) aprendidas nas aulas de introdução à Ciência de Dados e pesquisas por conta própria, foram realizadas análises e classificações das ações da Bolsa de Valores Brasileira (Ibovespa) com base em seus indicadores financeiros."
      ]
    },
    {
      "cell_type": "markdown",
      "metadata": {
        "id": "Kp7z9O5nPnOQ"
      },
      "source": [
        "\n",
        "## 2. Definição do problema"
      ]
    },
    {
      "cell_type": "markdown",
      "metadata": {
        "id": "RA0vD4L5P0j2"
      },
      "source": [
        "O problema consiste em analisar e classificar as ações listadas na Ibovespa com base em seus indicadores financeiros (conjunto de dados detalhado na seção 3).\n",
        "\n",
        "A análise será feita dividindo as ações de acordo com seus setores e visualizando os indicadores em comparação com as ações \"rivais\". Com isso, será possível obter _insights_ para classificá-las.\n",
        "\n",
        "A classificação será feita comparando os indicadores financeiros das ações para cada setor e definindo se a ação vale a pena ser comprada ou não conforme o preço atual dela, além de analisar graficamente para que a comparação seja feita mais facilmente.\n"
      ]
    },
    {
      "cell_type": "markdown",
      "metadata": {
        "id": "Nqnx6LwNPvkY"
      },
      "source": [
        "## 3. Descrição do conjunto de dados"
      ]
    },
    {
      "cell_type": "markdown",
      "metadata": {
        "id": "AQ-PxTQJsAUk"
      },
      "source": [
        "### 3.1. Descrição detalhada do conjunto de dados"
      ]
    },
    {
      "cell_type": "markdown",
      "metadata": {
        "id": "cdHRVWB6QSiu"
      },
      "source": [
        "\n",
        "\n",
        "Os dados foram obtidos fazendo _web scraping_ do site: https://statusinvest.com.\n",
        "\n",
        "Antes de coletar os dados, foi feito um arquivo de texto com o código de todas as ações da Ibovespa para acessar o site um a um e coletar as informações da ação correspondente. Exemplo: https://statusinvest.com.br/acoes/abev3\n",
        "\n",
        "Os dados estão listados abaixo:\n",
        "\n",
        "* Valor da ação\n",
        "  * Valor atual da ação\n",
        "  * Valor mínimo em 52 semanas\n",
        "  * Valor máximo em 52 semanas\n",
        "  * % de valorização nos últimos 12 meses\n",
        "\n",
        "* Quantidade de ações\n",
        "  * Liquidez média diaria (Quanto, por dia, aproximadamente é comercializado da ação)\n",
        "  * % de participação no Ibovespa (Quantos % a ação representa na Ibovespa)\n",
        "\n",
        "* Indicadores de Valuation\n",
        "  * D.Y (Relação entre proventos pagos e o preço atual da ação)\n",
        "  * P/L (Ideia de quanto o mercado está disposto a pagar pelos lucros da ação)\n",
        "  * PEG RATIO (Trade-off relativo entre o preço da ação, lucro por ação e crescimento esperado da empresa)\n",
        "  * P/VP (Preço atual da ação / Valor patrimonial por ação)\n",
        "  * EV/EBITDA (Mostra quanto tempo levaria para o valor calculado no EBITDA pagar o investimento feito para comprá-la.)\n",
        "  * EV/EBIT (Mostra quanto tempo levaria para o valor calculado no EBIT pagar o investimento feito para comprá-la.)\n",
        "  * P/EBITDA (Preço atual da ação / EBITDA)\n",
        "  * P/EBIT (Preço atual da ação / EBIT)\n",
        "  * VPA (Indica o valor patrimonial de uma ação)\n",
        "  * P/ATIVO (Preço atual da ação / Ativos totais por ação)\n",
        "  * LPA (Lucro por ação. Indica a empresa é lucrativa (positivo) ou não (negativo))\n",
        "  * P/SR (Preço atual da ação / Receita líquida por ação)\n",
        "  * P/CAP. GIRO (Preço atual da ação / Capital de giro)\n",
        "  * P/ATIVO CIRC. LÍQ. (Preço atual da ação / Ativo Circ. Líquido por ação)\n",
        "\n",
        "* Indicadores de Endividamento\n",
        "  * DÍV. LÍQUIDA/PL (Quanto de dívida da empresa está sendo usada para financiar os seus ativos em relação ao patrimônio dos acionistas)\n",
        "  * DÍV. LÍQUIDA/EBITDA (Quanto tempo seria necessário para pagar a dívida líquida da empresa considerando o EBITDA atual. Grau de endividamento.)\n",
        "  * DÍV. LÍQUIDA/EBIT (Quanto tempo seria necessário para pagar a dívida líquida da empresa considerando o EBIT atual. Grau de endividamento.)\n",
        "  * PL/ATIVOS (Patrimônio líquido / Ativos)\n",
        "  * PASSIVOS/ATIVOS (Relação entre os ativos (circulantes e não circulantes) e os passivos de uma empresa)\n",
        "  * LÍQ. CORRENTE (Capacidade de pagamento da empresa no curto prazo)\n",
        "\n",
        "* Indicadores de Eficiência\n",
        "  * M. BRUTA (Lucro bruto / Receita líquida)\n",
        "  * M. EBITDA (EBITDA / Receita líquida)\n",
        "  * M. EBIT (EBIT / Receita líquida)\n",
        "  * M. LÍQUIDA (Lucro líquido / Receita líquida)\n",
        "\n",
        "* Indicadores de Rentabilidade\n",
        "  * ROE (Lucro líquido / Patrimônio líquido)\n",
        "  * ROA (Lucro líquido / Ativo total)\n",
        "  * ROIC (Mede a rentabilidade de dinheiro que uma empresa é capaz de gerar em função de todo o capital investido, incluindo os aportes por meio de dívidas.)\n",
        "  * GIRO ATIVOS (Mede se a empresa está utilizando o seu ativo para produzir riqueza, através da venda de seus produtos e/ou serviços)\n",
        "\n",
        "* Indicadores de Crescimento\n",
        "  * CAGR RECEITAS 5 ANOS (CAGR = Taxa de crecimento anual composta)\n",
        "  * CAGR LUCROS 5 ANOS (CAGR = Taxa de crecimento anual composta)\n",
        "\n",
        "* Empresa\n",
        "  * Patrimônio líquido\n",
        "  * Ativos\n",
        "  * Ativo circulante\n",
        "  * Dívida bruta\n",
        "  * Disponibilidade em caixa\n",
        "  * Dívida líquida\n",
        "  * Valor de mercado\n",
        "  * Valor de firma\n",
        "  * nº total de papéis (Total de ações da empresa. As ações que estão em circulação)\n",
        "\n",
        "* Atuação no mercado\n",
        "  * Setor de atuação\n",
        "  * Subsetor de atuação\n",
        "  * Segmento de atuação"
      ]
    },
    {
      "cell_type": "markdown",
      "metadata": {
        "id": "r3-3s9tnbTQ3"
      },
      "source": [
        "### 3.2. Obtenção dos dados"
      ]
    },
    {
      "cell_type": "markdown",
      "metadata": {
        "id": "d8bN9uaoHj4j"
      },
      "source": [
        "* O _google drive_ foi utilizado para acessar os arquivos de entrada e guardar os arquivos de saída.\n",
        "\n",
        "* Diversas funções foram criadas para pegar os dados necessários, separadamente, e depois guardá-los em um _dataframe_ para serem modificados depois."
      ]
    },
    {
      "cell_type": "markdown",
      "metadata": {
        "id": "eOdii6qB9loN"
      },
      "source": [
        "#### Acesso ao google drive"
      ]
    },
    {
      "cell_type": "markdown",
      "metadata": {
        "id": "HM0i1Cyaupuj"
      },
      "source": [
        "#### Coleta dos Dados"
      ]
    },
    {
      "cell_type": "code",
      "execution_count": null,
      "metadata": {
        "id": "OI0w-cyEsxSY"
      },
      "outputs": [],
      "source": [
        "import pandas as pd\n",
        "import time"
      ]
    },
    {
      "cell_type": "code",
      "execution_count": null,
      "metadata": {
        "id": "xCJ2hX6HsDFP"
      },
      "outputs": [],
      "source": [
        "import urllib.error\n",
        "import urllib.request\n",
        "import socket\n",
        "\n",
        "from bs4 import BeautifulSoup\n",
        "from unidecode import unidecode"
      ]
    },
    {
      "cell_type": "code",
      "execution_count": null,
      "metadata": {
        "id": "KAdE32XuuiG6"
      },
      "outputs": [],
      "source": [
        "def get_page(url):\n",
        "    try:\n",
        "        req = urllib.request.Request(url, \n",
        "                                     headers = {'User-Agent': 'Mozilla/5.0 \\\n",
        "        (X11; Ubuntu; Linux x86_64) AppleWebKit/537.36 (KHTML, like Gecko) \\\n",
        "        Chrome/55.0.2919.83 Safari/537.36'})\n",
        "        with urllib.request.urlopen(req, timeout = 5) as f:\n",
        "            return f.read()\n",
        "    except socket.timeout as e1:\n",
        "        print('\\tTime out')\n",
        "    except urllib.error.URLError as e2:\n",
        "        print('\\tURL error')\n",
        "    except urllib.error.HTTPError as e3:\n",
        "        print('\\tHTTP error')\n",
        "    return None"
      ]
    },
    {
      "cell_type": "code",
      "execution_count": null,
      "metadata": {
        "id": "idT05IffdJhC"
      },
      "outputs": [],
      "source": [
        "def clean_title(title):\n",
        "  return unidecode(title.get_text().strip().lower().replace('.','').replace(' ','_'))"
      ]
    },
    {
      "cell_type": "code",
      "execution_count": null,
      "metadata": {
        "id": "PHdBsB8vF2XG"
      },
      "outputs": [],
      "source": [
        "def get_valor_atual(soup):\n",
        "  div_valor_atual = soup.find('div', {'class': 'pb-3 pb-md-5'})\n",
        "\n",
        "  values_div_valor_atual = div_valor_atual.find_all('strong', {'class': 'value'})\n",
        "  values_div_valor_atual.pop(3)\n",
        "\n",
        "  return {'valor_atual': values_div_valor_atual[0].get_text(),\n",
        "          'min_52_semanas': values_div_valor_atual[1].get_text(),\n",
        "          'max_52_semanas': values_div_valor_atual[2].get_text(),\n",
        "          'valorizacao_12m': values_div_valor_atual[3].get_text()}"
      ]
    },
    {
      "cell_type": "code",
      "execution_count": null,
      "metadata": {
        "id": "k7DXWz8eieeC"
      },
      "outputs": [],
      "source": [
        "def get_liquidez_diaria(soup):\n",
        "  classe = 'top-info top-info-1 top-info-sm-2 top-info-md-3 top-info-xl-n sm d-flex justify-between'\n",
        "  div_tipo = soup.find('div', {'class': classe})\n",
        "\n",
        "  info_div_tipo = div_tipo.find_all('div', {'class': 'info'})[2]  \n",
        "  liquidez_diaria = info_div_tipo.find('strong', {'class': 'value'})\n",
        "  \n",
        "  return {'liquidez_media_diaria': liquidez_diaria.get_text()}"
      ]
    },
    {
      "cell_type": "code",
      "execution_count": null,
      "metadata": {
        "id": "K2TPYbksd3dg"
      },
      "outputs": [],
      "source": [
        "def get_indicadores(soup):\n",
        "  div_indicadores = soup.find('div', {'class': 'indicator-today-container'})\n",
        "\n",
        "  title_div_indicadores = div_indicadores.find_all('h3')\n",
        "  title_indicadores = [clean_title(x) for x in title_div_indicadores]\n",
        "\n",
        "  values_div_indicadores = div_indicadores.find_all('strong', {'class': 'value d-block lh-4 fs-4 fw-700'})\n",
        "  values_indicadores = [x.get_text() for x in values_div_indicadores]\n",
        "\n",
        "  return {key:value for key, value in zip(title_indicadores, values_indicadores)}"
      ]
    },
    {
      "cell_type": "code",
      "execution_count": null,
      "metadata": {
        "id": "KufrGeKXsHdp"
      },
      "outputs": [],
      "source": [
        "def get_patrimonio(soup):\n",
        "  div_patrimonio = soup.find('div', {'class': 'top-info info-3 sm d-flex justify-between mb-3'})\n",
        "\n",
        "  title_div_patrimonio = div_patrimonio.find_all('h3', {'class': 'title m-0'})\n",
        "  title_div_patrimonio.pop(0)\n",
        "  title_div_patrimonio.pop()\n",
        "  title_patrimonio = [clean_title(x) for x in title_div_patrimonio]\n",
        "\n",
        "  values_div_patrimonio = div_patrimonio.find_all('strong', {'class': 'value'})\n",
        "  values_div_patrimonio.pop(8)\n",
        "  values_div_patrimonio.pop()\n",
        "  values_patrimonio = [x.get_text() for x in values_div_patrimonio]\n",
        "\n",
        "  return {key:value for key, value in zip(title_patrimonio, values_patrimonio)}"
      ]
    },
    {
      "cell_type": "code",
      "execution_count": null,
      "metadata": {
        "id": "GuF-aGy_r4Qi"
      },
      "outputs": [],
      "source": [
        "def get_setor(soup):\n",
        "  classe = 'top-info top-info-1 top-info-sm-2 top-info-md-n sm d-flex justify-between '\n",
        "  div_setor = soup.find('div', {'class': classe})\n",
        "\n",
        "  values_div_setor = div_setor.find_all('strong', {'class': 'value'})\n",
        "\n",
        "  return {'setor_de_atuacao': values_div_setor[0].get_text(),\n",
        "          'subsetor_de_atuacao': values_div_setor[1].get_text(),\n",
        "          'segmento_de_atuacao': values_div_setor[2].get_text()}"
      ]
    },
    {
      "cell_type": "code",
      "execution_count": null,
      "metadata": {
        "id": "2HCK4Xue3lUK"
      },
      "outputs": [],
      "source": [
        "def get_df_dados():\n",
        "  with open('codes_ibov10.txt') as f:\n",
        "    # le os codigos das acoes\n",
        "    lines = f.readlines()\n",
        "    lines = map(lambda x:x.rstrip('\\n'), lines)\n",
        "\n",
        "    list_dict_dados = []\n",
        "\n",
        "    # pega os dados de cada acao e adiciona em um dicionario\n",
        "    for code in lines:\n",
        "      try:\n",
        "        # pega o html e deixa bonito com o beautiful soup\n",
        "        content = get_page('https://statusinvest.com.br/acoes/' + code)\n",
        "        decoded = content.decode('utf-8')\n",
        "        soup = BeautifulSoup(decoded, 'html.parser')\n",
        "\n",
        "        # pega os dados uteis e coloca em dicionarios\n",
        "        valor = get_valor_atual(soup)\n",
        "        liquidez = get_liquidez_diaria(soup)\n",
        "        indicadores = get_indicadores(soup)\n",
        "        patrimonio = get_patrimonio(soup)\n",
        "        setor = get_setor(soup)\n",
        "        codigo = {'codigo': code}\n",
        "\n",
        "        # concatena todos dicionarios\n",
        "        dict_dados = {**codigo, **valor, **liquidez, **indicadores, **patrimonio, **setor}\n",
        "\n",
        "        # adiciona na lista de dicionarios\n",
        "        list_dict_dados.append(dict_dados)\n",
        "      except:\n",
        "        # se nao der pra acessar uma acao, so ignora\n",
        "        print(\"Não consegui ler: \" + code)\n",
        "        continue\n",
        "    \n",
        "    return pd.DataFrame(list_dict_dados)"
      ]
    },
    {
      "cell_type": "markdown",
      "metadata": {
        "id": "Cpq95zy6CDt8"
      },
      "source": [
        "### 3.3. Limpeza dos Dados"
      ]
    },
    {
      "cell_type": "markdown",
      "metadata": {
        "id": "KXaNDEnxIf6h"
      },
      "source": [
        "* Foi criada uma função para limpar e padronizar os dados e seus respectivos tipos.\n",
        "\n",
        "  1. Converter as _strings_: \"-\", \"--\", \"-%\", \"--%\" em \"0\" (para converter em _float_)\n",
        "  2. Substituir todos os pontos por vazio. (para converter em _float_)\n",
        "  3. Substituir todas as vírgulas por ponto. (para converter em _float_)\n",
        "  4. Tirar as porcentagens e deixar em _float_. (53,3% -> 0.533)\n",
        "  5. Converter _string_ em _float_.\n",
        "  "
      ]
    },
    {
      "cell_type": "code",
      "execution_count": null,
      "metadata": {
        "id": "vVKCyjHlSJpw"
      },
      "outputs": [],
      "source": [
        "def clean_dados(df):\n",
        "  # Coloca '0' se for: '-', '--', '-%', '--%'\n",
        "  df[df.eq('-')] = '0'\n",
        "  df[df.eq('--')] = '0'\n",
        "  df[df.eq('-%')] = '0'\n",
        "  df[df.eq('--%')] = '0'\n",
        "\n",
        "  # Aplica as funcoes de limpeza dos dados\n",
        "  df = df.applymap(lambda x: x.replace('.',''))\n",
        "  df = df.applymap(lambda x: x.replace(',','.'))\n",
        "\n",
        "  # string com % -> float com 3 casa decimais\n",
        "  def percentage_to_float(s):\n",
        "    if '%' in s:\n",
        "      return round(float(s.replace('%',''))/100, 3)\n",
        "    else:\n",
        "      return s\n",
        "\n",
        "  # string -> float\n",
        "  def string_to_float(s):\n",
        "    try:\n",
        "      return round(float(s), 3)\n",
        "    except:\n",
        "      return s\n",
        "    \n",
        "  df = df.applymap(lambda x: percentage_to_float(x))\n",
        "  df = df.applymap(lambda x: string_to_float(x))\n",
        "  \n",
        "  return df"
      ]
    },
    {
      "cell_type": "markdown",
      "metadata": {
        "id": "FxS2sWVTzwvT"
      },
      "source": [
        "### 3.4. Coleta dos dados"
      ]
    },
    {
      "cell_type": "markdown",
      "metadata": {
        "id": "7PzJ40570Ocf"
      },
      "source": [
        "Devido ao tempo despendido para coletar os dados usando _Web Scraping_, decidiu-se escrever os dados coletados em um _CSV_ para facilitar o acesso e a usabilidade do programa.\n",
        "\n",
        "* Descomentar o _web scraping_ caso ainda não tenha o arquivo _CSV_ com os dados coletados.\n",
        "\n",
        "* Descomentar o _CSV_ caso já tenha executado o _web scraping_ e gerado o CSV.\n",
        "\n",
        "Obs: Alguns tempos de execução do _Web Scraping_ para coletar os dados de 419 ações foram de 4 minutos a 8 minutos, conforme a demanda do site."
      ]
    },
    {
      "cell_type": "code",
      "execution_count": null,
      "metadata": {
        "id": "KGJ7J--4KV7Z"
      },
      "outputs": [],
      "source": [
        "from datetime import datetime\n",
        "\n",
        "# Pega data atual para usar no titulo do arquivo csv\n",
        "today = datetime.today().strftime('%d_%m_%Y')\n",
        "\n",
        "# Nome do arquivo csv\n",
        "csv_name = 'dados_' + today + '.csv'"
      ]
    },
    {
      "cell_type": "markdown",
      "metadata": {
        "id": "oB7t8q3wxIiS"
      },
      "source": [
        "#### _Web Scraping_"
      ]
    },
    {
      "cell_type": "code",
      "execution_count": null,
      "metadata": {
        "id": "cxvUdfG5CKCG"
      },
      "outputs": [],
      "source": [
        "# start = time.time()\n",
        "\n",
        "# # Pega os dados brutos e coloca em um dataframe\n",
        "# df_raw = get_df_dados()\n",
        "\n",
        "# # Coloca a coluna de codigo como index\n",
        "# df_raw = df_raw.set_index('codigo')\n",
        "\n",
        "# # Limpa os dados originais e coloca em um dataframe\n",
        "# df_clean = clean_dados(df_raw)\n",
        "\n",
        "# # Escreve os dados limpos em um csv com separador virgula\n",
        "# df_clean.to_csv(csv_name)\n",
        "\n",
        "# finish = time.time()\n",
        "# elapse = round((finish - start)/60, 2)\n",
        "\n",
        "# # Exemplo de uma execução -> Pegou 419 ações em 5.69 min\n",
        "# print('Web scraping de ' + str(len(df_clean)) + ' ações. Feito em: ' + str(elapse) + ' min')"
      ]
    },
    {
      "cell_type": "markdown",
      "metadata": {
        "id": "Bo3i3WaOAkhP"
      },
      "source": [
        "#### CSV"
      ]
    },
    {
      "cell_type": "code",
      "execution_count": null,
      "metadata": {
        "id": "Mmw9PoYrApiC"
      },
      "outputs": [],
      "source": [
        "# Le arquivo csv com os dados para um dataframe\n",
        "df_clean = pd.read_csv(csv_name, index_col=0)"
      ]
    },
    {
      "cell_type": "markdown",
      "metadata": {
        "id": "UunwItEuBAX6"
      },
      "source": [
        "## 4. Metodologia\n"
      ]
    },
    {
      "cell_type": "markdown",
      "metadata": {
        "id": "3JUwbTHPtAui"
      },
      "source": [
        "Realizei diversas filtragens de dados e criação de algumas categorias para as ações. As categorias definidas são baseadas em pesquisas relacionadas ao mercado financeiro e como alguns investidores famosos escolhem suas ações utilizando os indicadores disponíveis. \n",
        "\n",
        "Foram criadas árvores de decisão para verificar se é possível classificar a ação como \"investível\" utilizando todos ou parte dos dados coletados anteriormente.\n",
        "\n",
        "Foram criados gráficos para melhor visualização, comparação visual entre os dados e conseguir finalizar a análise. \n",
        "\n",
        "A partir das ações investíveis, será possível escolher as melhores ações de acordo com o que foi pesquisado e analisado."
      ]
    },
    {
      "cell_type": "markdown",
      "metadata": {
        "id": "foa2Cg7-xO-q"
      },
      "source": [
        "### 4.1. Filtragem dos Dados"
      ]
    },
    {
      "cell_type": "markdown",
      "metadata": {
        "id": "voSkTSoz1TIy"
      },
      "source": [
        "#### Justificativa da Filtragem"
      ]
    },
    {
      "cell_type": "markdown",
      "metadata": {
        "id": "5tw4LgcUcP83"
      },
      "source": [
        "Filtros iniciais para tirar as ações que não valem a pena serem analisadas.\n",
        "\n",
        "1. Deixar apenas uma ação de cada empresa, ou seja, as ações que têm final 3. \n",
        "  * Exemplo\n",
        "    * A empresa Sanepar tem as ações SAPR3, SAPR4, SAPR11.\n",
        "    * Somente SAPR3 será mantida.\n",
        "  * Justificativa\n",
        "    * Os indicadores mudam muito pouco entre as ações da mesma empresa.\n",
        "    * Não há motivo imediato de investir em várias ações da mesma empresa.   \n",
        "\n",
        "\n",
        "2. A liquidez média diária da ação tem que ser no mínimo 1000 operações por dia.\n",
        "  \n",
        "  * Cálculo: $ LiquidezMediaDiaria = 1000 \\cdot ValorAtual $\n",
        "\n",
        "  * Justificativa\n",
        "    * Esse filtro é necessário porque **NÃO** é interessante analisar ações que são infimamente compradas ou vendidas, pois elas são muito pouco conhecidas e variam **MUITO** o preço **(+/- 50%, 100%, 200%)** diariamente, o que torna a ação instável e difícil de ser analisada.\n",
        "  \n",
        "  "
      ]
    },
    {
      "cell_type": "markdown",
      "metadata": {
        "id": "0hf6_bGp1XQ8"
      },
      "source": [
        "#### Função da Filtragem"
      ]
    },
    {
      "cell_type": "code",
      "execution_count": null,
      "metadata": {
        "id": "WcsPwAYWiuyV"
      },
      "outputs": [],
      "source": [
        "def filter_dados(df):\n",
        "  # Tira 2 colunas que nao serao usadas\n",
        "  df.drop('segmento_de_listagem', axis='columns', inplace=True)\n",
        "  df.drop('free_float', axis='columns', inplace=True)\n",
        "\n",
        "  # Filtra com base na liquidez media diaria\n",
        "  min_liquidez = 1000  \n",
        "  filtro_1_liquidez = df.liquidez_media_diaria >= (min_liquidez * df.valor_atual)\n",
        "  df = df[filtro_1_liquidez]\n",
        "\n",
        "  # Filtra com base no index (codigo).\n",
        "  # O codigo tem que ter 3 para que não repita as ações da mesma empresa:\n",
        "  # Ex: SAPR11, SAPR4, SAPR3\n",
        "  codigos_com_tres = [i for i in df.index if '3' in i]\n",
        "  df = df.loc[df.index.isin(codigos_com_tres)]\n",
        "  return df"
      ]
    },
    {
      "cell_type": "markdown",
      "metadata": {
        "id": "1NYXBYBl1Eix"
      },
      "source": [
        "#### Aplicação da Filtragem"
      ]
    },
    {
      "cell_type": "code",
      "execution_count": null,
      "metadata": {
        "id": "bV2Y6NSA4ZhN"
      },
      "outputs": [],
      "source": [
        "# Copia os dados para outro dataframe para manter o dataframe original intacto\n",
        "df = df_clean.copy()\n",
        "\n",
        "# Tira algumas acoes que estao muito discrepantes que nao valem a pena serem analisadas\n",
        "df = filter_dados(df)"
      ]
    },
    {
      "cell_type": "code",
      "execution_count": null,
      "metadata": {
        "colab": {
          "base_uri": "https://localhost:8080/"
        },
        "id": "M9xbqlM6qz42",
        "outputId": "99722c57-929c-4f61-c2ea-f5d5add05442"
      },
      "outputs": [],
      "source": [
        "df_clean.shape"
      ]
    },
    {
      "cell_type": "code",
      "execution_count": null,
      "metadata": {
        "colab": {
          "base_uri": "https://localhost:8080/"
        },
        "id": "GoLZdzEA4T-9",
        "outputId": "28e96f80-56af-4cf0-a866-d3a16f5a3f50"
      },
      "outputs": [],
      "source": [
        "df.shape"
      ]
    },
    {
      "cell_type": "code",
      "execution_count": null,
      "metadata": {
        "colab": {
          "base_uri": "https://localhost:8080/",
          "height": 0
        },
        "id": "y55axYu4FCqB",
        "outputId": "03eb67cd-bb9e-4933-df30-c7db6dd2075f"
      },
      "outputs": [],
      "source": [
        "df.head()"
      ]
    },
    {
      "cell_type": "code",
      "execution_count": null,
      "metadata": {
        "colab": {
          "base_uri": "https://localhost:8080/",
          "height": 0
        },
        "id": "eZxogJnAypzS",
        "outputId": "3e67d874-8fbe-4dfd-d9a3-0845de1c961b"
      },
      "outputs": [],
      "source": [
        "df.describe()"
      ]
    },
    {
      "cell_type": "markdown",
      "metadata": {
        "id": "Im1438x5EZwM"
      },
      "source": [
        "### 4.2. Categorias dos dados"
      ]
    },
    {
      "cell_type": "markdown",
      "metadata": {
        "id": "fo4OKhtTEipd"
      },
      "source": [
        "#### Justificativa das Categorias"
      ]
    },
    {
      "cell_type": "markdown",
      "metadata": {
        "id": "xEwi6KR8EmCO"
      },
      "source": [
        "* Empresa Barata (1 - sim, 0 - não)\n",
        "  * 0 <= PEG Ratio <= 10\n",
        "  * P/VP <= 2\n",
        "  * P/ATIVO <= 5\n",
        "\n",
        "* Empresa Saudável (1 - sim, 0 - não)\n",
        "  * DL/EBITDA <= 3\n",
        "  * DL/PL <= 1\n",
        "  * LPA >= 0\n",
        "\n",
        "* Empresa Eficiente (1 - sim, 0 - não)\n",
        "  * MARGEM EBITDA > 0.2 (20%)\n",
        "  * MARGEM LÍQUIDA > 0.1 (10%)\n",
        "\n",
        "* Empresa Rentável (1 - sim, 0 - não)\n",
        "  * ROE >= 0.1\n",
        "  * ROA >= 0.05\n",
        "  * ROIC >= 0.1\n",
        "\n",
        "* Empresa Crescendo (1 - sim, 0 - não)\n",
        "  * CAGR RECEITAS 5 ANOS > 0\n",
        "  * CAGR LUCROS 5 ANOS > 0\n",
        "\n",
        "* Empresa barata em relação as outras empresas do mesmo setor (1 - sim, 0 - não)\n",
        "  * Empresa barata \n",
        "  * EV/EBITDA < mediana(EV/EBITDA das empresas do setor)\n",
        "\n",
        "* Empresa investível\n",
        "  * Empresa Saudável\n",
        "  * Empresa Crescendo"
      ]
    },
    {
      "cell_type": "markdown",
      "metadata": {
        "id": "1nwMX8_iEmdq"
      },
      "source": [
        "#### Função das Categorias"
      ]
    },
    {
      "cell_type": "code",
      "execution_count": null,
      "metadata": {
        "id": "1BuSSvxRF1vm"
      },
      "outputs": [],
      "source": [
        "def eh_empresa_barata(row):\n",
        "  return 1 if (row['peg_ratio'] >= 0 and row['peg_ratio'] <= 10) and row['p/vp'] <= 2 and row['p/ativo'] <= 5 else 0\n",
        "\n",
        "def eh_empresa_saudavel(row):\n",
        "  return 1 if row['div_liquida/ebitda'] <= 3 and row['div_liquida/pl'] <= 1 and row['lpa'] >= 0 else 0\n",
        "\n",
        "def eh_empresa_eficiente(row):\n",
        "  return 1 if row['m_ebitda'] >= 0.2 and row['m_liquida'] >= 0.1 else 0\n",
        "\n",
        "def eh_empresa_rentavel(row):\n",
        "  return 1 if row['roe'] >= 0.1 and row['roa'] >= 0.05 and row['roic'] >= 0.1 else 0\n",
        "\n",
        "def eh_empresa_crescendo(row):\n",
        "  return 1 if row['cagr_receitas_5_anos'] > 0 and row['cagr_lucros_5_anos'] > 0 else 0\n",
        "\n",
        "cotacao_dolar = 5.00 # data: 17_03_2022\n",
        "def empresa_tamanho_capitalizacao(row):\n",
        "  valor_mercado_dolar = row['valor_de_mercado'] / cotacao_dolar\n",
        "  if valor_mercado_dolar >= 50e6 and valor_mercado_dolar < 300e6:\n",
        "    return 'micro_caps'\n",
        "  elif valor_mercado_dolar >= 300e6 and valor_mercado_dolar < 2e9:\n",
        "    return 'small_caps'\n",
        "  elif valor_mercado_dolar >= 2e9 and valor_mercado_dolar < 10e9:\n",
        "    return 'between_small_caps_and_blue_chips'\n",
        "  elif valor_mercado_dolar >= 10e9:\n",
        "    return 'blue_chips'\n",
        "\n",
        "def eh_empresa_barata_em_relacao_ao_setor(row, df):\n",
        "  mediana_ev_ebitda_setor = df[df['setor_de_atuacao'] == row['setor_de_atuacao']]['ev/ebitda'].median() # usar mediana para os outliers nao afetarem\n",
        "  return 1 if row['eh_empresa_barata'] == 1 and row['ev/ebitda'] < mediana_ev_ebitda_setor else 0\n",
        "\n",
        "def eh_empresa_investivel(row):\n",
        "  return 1 if row['eh_empresa_saudavel'] == 1 and row['eh_empresa_crescendo'] == 1 else 0"
      ]
    },
    {
      "cell_type": "markdown",
      "metadata": {
        "id": "_pvelW58FpoD"
      },
      "source": [
        "#### Aplicação das Categorias"
      ]
    },
    {
      "cell_type": "code",
      "execution_count": null,
      "metadata": {
        "id": "ulOoInuQHnLd"
      },
      "outputs": [],
      "source": [
        "df['eh_empresa_barata'] = df.apply(lambda r: eh_empresa_barata(r), axis=1)\n",
        "df['eh_empresa_saudavel'] = df.apply(lambda r: eh_empresa_saudavel(r), axis=1)\n",
        "df['eh_empresa_eficiente'] = df.apply(lambda r: eh_empresa_eficiente(r), axis=1)\n",
        "df['eh_empresa_rentavel'] = df.apply(lambda r: eh_empresa_rentavel(r), axis=1)\n",
        "df['eh_empresa_crescendo'] = df.apply(lambda r: eh_empresa_crescendo(r), axis=1)\n",
        "\n",
        "df['tamanho_empresa'] = df.apply(lambda r: empresa_tamanho_capitalizacao(r), axis=1)\n",
        "\n",
        "df['eh_empresa_barata_em_relacao_ao_setor'] = df.apply(lambda r: eh_empresa_barata_em_relacao_ao_setor(r, df), axis=1)\n",
        "\n",
        "df['eh_empresa_investivel'] = df.apply(lambda r: eh_empresa_investivel(r), axis=1)"
      ]
    },
    {
      "cell_type": "code",
      "execution_count": null,
      "metadata": {
        "colab": {
          "base_uri": "https://localhost:8080/",
          "height": 0
        },
        "id": "_YaqnkhNgy3M",
        "outputId": "4a9346c9-14fe-430e-d5ae-47ff567bea91"
      },
      "outputs": [],
      "source": [
        "df.head()"
      ]
    },
    {
      "cell_type": "markdown",
      "metadata": {
        "id": "D9bpt5O8w5Ok"
      },
      "source": [
        "## 5. Resultados"
      ]
    },
    {
      "cell_type": "markdown",
      "metadata": {
        "id": "ZmmNqAPtKDXf"
      },
      "source": [
        "### 5.1. Classificação com _Decision Tree_"
      ]
    },
    {
      "cell_type": "markdown",
      "metadata": {
        "id": "9xJeelK07Ewo"
      },
      "source": [
        "#### Justificativa da _Decision Tree_\n"
      ]
    },
    {
      "cell_type": "markdown",
      "metadata": {
        "id": "aNgrSM7r4NxF"
      },
      "source": [
        "A ideia é classificar, usando _Decision Tree_, as ações de acordo com a categoria \"eh_empresa_investivel\", definida anteriormente. Serão utilizados tanto os indicadores que definiram, ou não, as categorias anteriores.\n",
        "\n",
        "O **y** que queremos prever é \"eh_empresa_investivel\", ou seja, de acordo com a definição realizada na seção 4.2, ela tem que ser \"saudável\" e \"crescendo\".\n",
        "\n",
        "* Saudável é definido por DL/EBITDA, DL/PL e LPA.\n",
        "* Crescendo é definido por CAGR RECEITAS 5 ANOS e CAGR LUCROS 5 ANOS.\n",
        "\n",
        "Considerando isso, caso seja escolhido o **X** da _Decision Tree_, usando um ou vários desses dados, este será um viés para a _Decision Tree_, pois os próprios dados definem se \"eh_empresa_investivel\".\n",
        "\n",
        "Obs: No _dataframe_, índice de cada dado que dá viés para a _Decision Tree_\n",
        "\n",
        "* DL/EBITDA - 20\n",
        "* DL/PL - 19\n",
        "* LPA - 15\n",
        "* CAGR RECEITAS 5 ANOS - 33\n",
        "* CAGR LUCROS 5 ANOS - 34"
      ]
    },
    {
      "cell_type": "code",
      "execution_count": null,
      "metadata": {
        "colab": {
          "base_uri": "https://localhost:8080/"
        },
        "id": "TRM7_fZKRsEs",
        "outputId": "055152e4-0218-4753-e184-a4bd06862113"
      },
      "outputs": [],
      "source": [
        "df.info()"
      ]
    },
    {
      "cell_type": "code",
      "execution_count": null,
      "metadata": {
        "id": "4Qk8X8Uk9M3o"
      },
      "outputs": [],
      "source": [
        "# lower_bound, upper_bound = 00, 19 # valuation\n",
        "# lower_bound, upper_bound = 19, 25 # endividamento\n",
        "# lower_bound, upper_bound = 25, 29 # eficiencia\n",
        "# lower_bound, upper_bound = 29, 33 # rentabilidade\n",
        "# lower_bound, upper_bound = 33, 35 # crescimento\n",
        "# lower_bound, upper_bound = 35, 43 # valores da empresa"
      ]
    },
    {
      "cell_type": "markdown",
      "metadata": {
        "id": "wdz1qqVt68rf"
      },
      "source": [
        "#### Função da _Decision Tree_"
      ]
    },
    {
      "cell_type": "code",
      "execution_count": null,
      "metadata": {
        "id": "OH1MpsNakt2k"
      },
      "outputs": [],
      "source": [
        "from sklearn.model_selection import train_test_split\n",
        "\n",
        "from sklearn.tree import DecisionTreeClassifier\n",
        "\n",
        "from sklearn.metrics import classification_report\n",
        "from sklearn.metrics import ConfusionMatrixDisplay"
      ]
    },
    {
      "cell_type": "code",
      "execution_count": null,
      "metadata": {
        "id": "5AUh9UJkyyPm"
      },
      "outputs": [],
      "source": [
        "def predict_with_decision_tree(df, lower_bound=0, upper_bound=43, test_size=0.25, random_state=42):\n",
        "  X = df.values[:, lower_bound:upper_bound]\n",
        "  y = df.values[:, -1].astype('int')\n",
        "  X_train, X_test, y_train, y_test = train_test_split(X, y, test_size=test_size, random_state=random_state)\n",
        "\n",
        "  dt = DecisionTreeClassifier()\n",
        "  dt.fit(X_train, y_train)\n",
        "  y_predict = dt.predict(X_test)\n",
        "\n",
        "  print(classification_report(y_test, y_predict))\n",
        "  ConfusionMatrixDisplay.from_predictions(y_test, y_predict, normalize='true');"
      ]
    },
    {
      "cell_type": "markdown",
      "metadata": {
        "id": "HR9mqTms_FwF"
      },
      "source": [
        "#### Aplicação da _Decision Tree_"
      ]
    },
    {
      "cell_type": "markdown",
      "metadata": {
        "id": "803OGhf4kZCt"
      },
      "source": [
        "##### Indicadores de Valuation\n"
      ]
    },
    {
      "cell_type": "code",
      "execution_count": null,
      "metadata": {
        "colab": {
          "base_uri": "https://localhost:8080/",
          "height": 0
        },
        "id": "EYIEhLxv0xLq",
        "outputId": "7c0d88e6-624f-4638-be60-9d039e4067db"
      },
      "outputs": [],
      "source": [
        "lower_bound, upper_bound = 00, 19 # valuation\n",
        "predict_with_decision_tree(df, lower_bound=lower_bound, upper_bound=upper_bound)"
      ]
    },
    {
      "cell_type": "markdown",
      "metadata": {
        "id": "G072a9kZ9HNS"
      },
      "source": [
        "##### Indicadores de Endividamento\n"
      ]
    },
    {
      "cell_type": "code",
      "execution_count": null,
      "metadata": {
        "colab": {
          "base_uri": "https://localhost:8080/",
          "height": 0
        },
        "id": "NBTbjz6q9HNT",
        "outputId": "d0e1a17a-7b0f-4ab9-b27d-83f495544533"
      },
      "outputs": [],
      "source": [
        "lower_bound, upper_bound = 19, 25 # endividamento\n",
        "predict_with_decision_tree(df, lower_bound=lower_bound, upper_bound=upper_bound)"
      ]
    },
    {
      "cell_type": "markdown",
      "metadata": {
        "id": "eoPQMHO_9H5C"
      },
      "source": [
        "##### Indicadores de Eficiência\n"
      ]
    },
    {
      "cell_type": "code",
      "execution_count": null,
      "metadata": {
        "colab": {
          "base_uri": "https://localhost:8080/",
          "height": 0
        },
        "id": "IZCFqoZ-9H5C",
        "outputId": "fa6e9e41-68f4-424e-c7d8-3b90fc26d741"
      },
      "outputs": [],
      "source": [
        "lower_bound, upper_bound = 25, 29 # eficiencia\n",
        "predict_with_decision_tree(df, lower_bound=lower_bound, upper_bound=upper_bound)"
      ]
    },
    {
      "cell_type": "markdown",
      "metadata": {
        "id": "-Kqy66y99IZE"
      },
      "source": [
        "##### Indicadores de Rentabilidade\n"
      ]
    },
    {
      "cell_type": "code",
      "execution_count": null,
      "metadata": {
        "colab": {
          "base_uri": "https://localhost:8080/",
          "height": 0
        },
        "id": "mc_FzZfB9IZF",
        "outputId": "a8ad7a96-03f7-4f89-bbcc-ffd19fa31ba2"
      },
      "outputs": [],
      "source": [
        "lower_bound, upper_bound = 29, 33 # rentabilidade\n",
        "predict_with_decision_tree(df, lower_bound=lower_bound, upper_bound=upper_bound)"
      ]
    },
    {
      "cell_type": "markdown",
      "metadata": {
        "id": "4_OYdMvK9I4x"
      },
      "source": [
        "##### Indicadores de Crescimento\n"
      ]
    },
    {
      "cell_type": "code",
      "execution_count": null,
      "metadata": {
        "colab": {
          "base_uri": "https://localhost:8080/",
          "height": 0
        },
        "id": "PAt8zbUt9I4x",
        "outputId": "db422be5-f8ca-4317-99c1-f181ab59a004"
      },
      "outputs": [],
      "source": [
        "lower_bound, upper_bound = 33, 35 # crescimento\n",
        "predict_with_decision_tree(df, lower_bound=lower_bound, upper_bound=upper_bound)"
      ]
    },
    {
      "cell_type": "markdown",
      "metadata": {
        "id": "MnyU2Ewp9Jfx"
      },
      "source": [
        "##### Valores da Empresa"
      ]
    },
    {
      "cell_type": "code",
      "execution_count": null,
      "metadata": {
        "colab": {
          "base_uri": "https://localhost:8080/",
          "height": 0
        },
        "id": "oFajvdnd9Jfx",
        "outputId": "c11a2f62-eb52-4045-9889-e9e04e3fd0d0"
      },
      "outputs": [],
      "source": [
        "lower_bound, upper_bound = 35, 43 # valores da empresa\n",
        "predict_with_decision_tree(df, lower_bound=lower_bound, upper_bound=upper_bound)"
      ]
    },
    {
      "cell_type": "markdown",
      "metadata": {
        "id": "zVq-iI-I_yRl"
      },
      "source": [
        "##### Valuation e Endividamento"
      ]
    },
    {
      "cell_type": "code",
      "execution_count": null,
      "metadata": {
        "colab": {
          "base_uri": "https://localhost:8080/",
          "height": 0
        },
        "id": "sN6fVOxZ_1u4",
        "outputId": "e6cc195d-edd2-4b46-b229-ae670563ccc5"
      },
      "outputs": [],
      "source": [
        "# lower_bound, upper_bound = 00, 19 # valuation\n",
        "# lower_bound, upper_bound = 19, 25 # endividamento\n",
        "# lower_bound, upper_bound = 29, 33 # rentabilidade\n",
        "# lower_bound, upper_bound = 33, 35 # crescimento\n",
        "# lower_bound, upper_bound = 35, 43 # valores da empresa\n",
        "\n",
        "lower_bound, upper_bound = 00, 25 # valuation e endividamento\n",
        "predict_with_decision_tree(df, lower_bound=lower_bound, upper_bound=upper_bound)"
      ]
    },
    {
      "cell_type": "markdown",
      "metadata": {
        "id": "6B29JBbeAjNe"
      },
      "source": [
        "##### Valuation, endividamento e rentabilidade"
      ]
    },
    {
      "cell_type": "code",
      "execution_count": null,
      "metadata": {
        "colab": {
          "base_uri": "https://localhost:8080/",
          "height": 0
        },
        "id": "sJzjsAzNAJr-",
        "outputId": "f095ffa2-ddf9-448c-ad9b-15321cfa9266"
      },
      "outputs": [],
      "source": [
        "# lower_bound, upper_bound = 00, 19 # valuation\n",
        "# lower_bound, upper_bound = 19, 25 # endividamento\n",
        "# lower_bound, upper_bound = 29, 33 # rentabilidade\n",
        "# lower_bound, upper_bound = 33, 35 # crescimento\n",
        "# lower_bound, upper_bound = 35, 43 # valores da empresa\n",
        "\n",
        "lower_bound, upper_bound = 00, 33 # valuation, endividamento e rentabilidade\n",
        "predict_with_decision_tree(df, lower_bound=lower_bound, upper_bound=upper_bound)"
      ]
    },
    {
      "cell_type": "markdown",
      "metadata": {
        "id": "iHr1-pVEAnOp"
      },
      "source": [
        "##### Valuation, endividamento, rentabilidade e crescimento"
      ]
    },
    {
      "cell_type": "code",
      "execution_count": null,
      "metadata": {
        "colab": {
          "base_uri": "https://localhost:8080/",
          "height": 0
        },
        "id": "ekJUGNIsAdhT",
        "outputId": "62d5ce67-7748-4423-ea00-b08a764e478f"
      },
      "outputs": [],
      "source": [
        "# lower_bound, upper_bound = 00, 19 # valuation\n",
        "# lower_bound, upper_bound = 19, 25 # endividamento\n",
        "# lower_bound, upper_bound = 29, 33 # rentabilidade\n",
        "# lower_bound, upper_bound = 33, 35 # crescimento\n",
        "# lower_bound, upper_bound = 35, 43 # valores da empresa\n",
        "\n",
        "lower_bound, upper_bound = 00, 35 # valuation, endividamento, rentabilidade e crecimento\n",
        "predict_with_decision_tree(df, lower_bound=lower_bound, upper_bound=upper_bound)"
      ]
    },
    {
      "cell_type": "markdown",
      "metadata": {
        "id": "lGEVQacpA0Ab"
      },
      "source": [
        "#### Análise do resultado da _Decision Tree_"
      ]
    },
    {
      "cell_type": "markdown",
      "metadata": {
        "id": "j-U9pgiWA2fu"
      },
      "source": [
        "A _Decision Tree_ conseguiu prever muito bem, utilizando parte dos dados que definem se uma empresa é \"investível\", o que faz sentido devido ao viés.\n",
        "\n",
        "1. A melhor _Decision Tree_ gerada foi aquela que utilizou os indicadores de: valuation, endividamento, rentabilidade e crescimento juntos. É possível afirmar que essa _Decision Tree_ foi a melhor porque usa todos os dados que definem o y, ou seja, é como se ela tivesse todos os x possíveis que definem uma f(x).\n",
        "\n",
        "2. A segunda melhor _Decision Tree_ foi aquela que utilizou apenas os dados de crescimento. A justificativa é parecida com a melhor _Decision Tree_, mas utilizando apenas algumas informações que definem o y.\n",
        "\n",
        "3. A terceira melhor _Decision Tree_ foi aquela que utilizou apenas os dados de endividamento. A justificativa é a mesma da segunda melhor _Decision Tree_.\n",
        "\n",
        "4. A quarta melhor _Decision Tree_ foi bem interessante, pois foi construída usando apenas os dados de rentabilidade: roe, roa, roic e giro ativos. A _Decision Tree_ que foi gerada é interessante porque nela não foram usados os dados com viés, assim como o foram nas três melhores _Decision Tree_ e ela conseguiu classificar de maneira razoável se uma ação é investível ou não, apenas usando os dados de rentabilidade."
      ]
    },
    {
      "cell_type": "markdown",
      "metadata": {
        "id": "qp_ucEXBFJl5"
      },
      "source": [
        "### 5.2 Analise Gráfica dos Dados"
      ]
    },
    {
      "cell_type": "markdown",
      "metadata": {
        "id": "_-sURJO6n5TN"
      },
      "source": [
        "#### Justificativa da análise gráfica"
      ]
    },
    {
      "cell_type": "markdown",
      "metadata": {
        "id": "jTplHRdoQRiM"
      },
      "source": [
        "Devido a quantidade de dados, e como eles estão disposto no _dataframe_, decidiu-se que é necessário utilizar gráficos para comparar as melhores ações investíveis. Com isso, será possível escolher as melhores ações com base em alguns parâmetros; seja ela a mais barata, eficiente ou rentável. \n",
        "\n",
        "Usar gráficos para a análise é extremamente necessário, pois o programa também será utilizado por pessoas que não têm conhecimento em programação e, assim, poderão apenas visualizar os gráficos e terem _insights_ sobre as melhores ações e o porquê de investir nelas."
      ]
    },
    {
      "cell_type": "markdown",
      "metadata": {
        "id": "3AC_r-UfSTEH"
      },
      "source": [
        "#### Visualização geral das empresas"
      ]
    },
    {
      "cell_type": "code",
      "execution_count": null,
      "metadata": {
        "id": "NI35edQW-w0C"
      },
      "outputs": [],
      "source": [
        "import numpy as np\n",
        "import scipy as sp\n",
        "import seaborn as sns\n",
        "import matplotlib.pyplot as plt"
      ]
    },
    {
      "cell_type": "markdown",
      "metadata": {
        "id": "hnsbS2KYTPqX"
      },
      "source": [
        "##### 1. Ações investíveis"
      ]
    },
    {
      "cell_type": "code",
      "execution_count": null,
      "metadata": {
        "colab": {
          "base_uri": "https://localhost:8080/",
          "height": 296
        },
        "id": "cNjyfWdxRS38",
        "outputId": "7d560f9b-9f93-4dc4-f8c5-bf7d88605ec9"
      },
      "outputs": [],
      "source": [
        "sns.countplot(data = df, x = 'eh_empresa_investivel');\n",
        "\n",
        "plt.grid(alpha=.5)\n",
        "plt.title('1 = investível, 0 = não é investível');"
      ]
    },
    {
      "cell_type": "code",
      "execution_count": null,
      "metadata": {
        "colab": {
          "base_uri": "https://localhost:8080/"
        },
        "id": "D12NBd22C-h_",
        "outputId": "05928284-ccd9-442a-b4dc-c248caf79cd0"
      },
      "outputs": [],
      "source": [
        "round(len(df[df['eh_empresa_investivel']==1])/len(df), 2)"
      ]
    },
    {
      "cell_type": "markdown",
      "metadata": {
        "id": "9EZD7pXPC0Vb"
      },
      "source": [
        "* Pode-se perceber que 30% das ações são investíveis "
      ]
    },
    {
      "cell_type": "markdown",
      "metadata": {
        "id": "3rSAxtLiUNpr"
      },
      "source": [
        "##### 2. A partir das investíveis, verificar se são eficientes, rentáveis ou baratas"
      ]
    },
    {
      "cell_type": "code",
      "execution_count": null,
      "metadata": {
        "id": "Cd5U80HKcMDx"
      },
      "outputs": [],
      "source": [
        "df_investivel = df[df['eh_empresa_investivel'] == 1]"
      ]
    },
    {
      "cell_type": "code",
      "execution_count": null,
      "metadata": {
        "colab": {
          "base_uri": "https://localhost:8080/",
          "height": 0
        },
        "id": "12e53ZwRUHgS",
        "outputId": "03ee37d2-363c-461a-e7bf-3d4cd0a0dd63"
      },
      "outputs": [],
      "source": [
        "fig, (ax1, ax2, ax3) = plt.subplots(1, 3, sharey=True, figsize=(8, 6))\n",
        "\n",
        "\n",
        "sns.countplot(data = df_investivel,\n",
        "              x = 'eh_empresa_barata',\n",
        "              ax=ax1,\n",
        "              );\n",
        "\n",
        "sns.countplot(data = df_investivel,\n",
        "              x = 'eh_empresa_eficiente',\n",
        "              ax=ax2,\n",
        "              );\n",
        "\n",
        "sns.countplot(data = df_investivel,\n",
        "              x = 'eh_empresa_rentavel',\n",
        "              ax=ax3,\n",
        "              );\n",
        "\n",
        "ax1.grid(alpha=.5)\n",
        "ax2.grid(alpha=.5)\n",
        "ax3.grid(alpha=.5)\n",
        "fig.suptitle('Ações Investíveis - Eficiente x Rentável x Barata');"
      ]
    },
    {
      "cell_type": "code",
      "execution_count": null,
      "metadata": {
        "colab": {
          "base_uri": "https://localhost:8080/"
        },
        "id": "30djNxiTDTmP",
        "outputId": "8136fec0-a773-4cd5-c5bf-13b7461f41c8"
      },
      "outputs": [],
      "source": [
        "round(len(df_investivel[df_investivel['eh_empresa_barata'] == 1])/len(df_investivel), 2)"
      ]
    },
    {
      "cell_type": "markdown",
      "metadata": {
        "id": "0PcLKRGFD4PG"
      },
      "source": [
        "* Das ações investíveis, cerca de 45% está barata"
      ]
    },
    {
      "cell_type": "code",
      "execution_count": null,
      "metadata": {
        "colab": {
          "base_uri": "https://localhost:8080/"
        },
        "id": "8Ah0HdRADxyy",
        "outputId": "8880007d-b476-4dca-ee50-5af6c2144df5"
      },
      "outputs": [],
      "source": [
        "round(len(df_investivel[df_investivel['eh_empresa_eficiente'] == 1])/len(df_investivel), 2)"
      ]
    },
    {
      "cell_type": "markdown",
      "metadata": {
        "id": "NTnXlVMGD_lX"
      },
      "source": [
        "* Das ações investíveis, cerca de 56% está eficiente"
      ]
    },
    {
      "cell_type": "code",
      "execution_count": null,
      "metadata": {
        "colab": {
          "base_uri": "https://localhost:8080/"
        },
        "id": "Pf0yNc1yD0IZ",
        "outputId": "91ddf27e-8137-4c2b-e1d8-1b646960c07b"
      },
      "outputs": [],
      "source": [
        "round(len(df_investivel[df_investivel['eh_empresa_rentavel'] == 1])/len(df_investivel), 2)"
      ]
    },
    {
      "cell_type": "markdown",
      "metadata": {
        "id": "7UhgIhmgEJSY"
      },
      "source": [
        "* Das ações investíveis, cerca de 52% está rentável"
      ]
    },
    {
      "cell_type": "markdown",
      "metadata": {
        "id": "9da9pcy0cDIZ"
      },
      "source": [
        "##### 3. A partir das investíveis e eficientes, verificar se são rentáveis ou baratas "
      ]
    },
    {
      "cell_type": "code",
      "execution_count": null,
      "metadata": {
        "id": "ew44lInccZza"
      },
      "outputs": [],
      "source": [
        "df_investivel_eficiente = df_investivel[df_investivel['eh_empresa_eficiente'] == 1]"
      ]
    },
    {
      "cell_type": "code",
      "execution_count": null,
      "metadata": {
        "colab": {
          "base_uri": "https://localhost:8080/",
          "height": 0
        },
        "id": "3PVkmERvcGgf",
        "outputId": "66e472d0-5f66-4e54-982e-c0aa7f9b46da"
      },
      "outputs": [],
      "source": [
        "fig, (ax1, ax2) = plt.subplots(1, 2, sharey=True, figsize=(8, 6))\n",
        "\n",
        "sns.countplot(data = df_investivel_eficiente,\n",
        "              x = 'eh_empresa_barata',\n",
        "              ax=ax1,\n",
        "              );\n",
        "\n",
        "sns.countplot(data = df_investivel_eficiente,\n",
        "              x = 'eh_empresa_rentavel',\n",
        "              ax=ax2,\n",
        "              );\n",
        "\n",
        "ax1.grid(alpha=.5)\n",
        "ax2.grid(alpha=.5)\n",
        "fig.suptitle('Ações Investíveis e Eficientes - Rentável x Barata');"
      ]
    },
    {
      "cell_type": "code",
      "execution_count": null,
      "metadata": {
        "colab": {
          "base_uri": "https://localhost:8080/"
        },
        "id": "V18hmWxhE1kM",
        "outputId": "aa0f85d4-7574-4642-a6df-7e27b6253093"
      },
      "outputs": [],
      "source": [
        "round(len(df_investivel_eficiente[df_investivel_eficiente['eh_empresa_barata'] == 1])/len(df_investivel_eficiente), 2)"
      ]
    },
    {
      "cell_type": "markdown",
      "metadata": {
        "id": "TzvzB0-dE-jk"
      },
      "source": [
        "* Das ações investíveis e eficientes, cerca de 53% está barata"
      ]
    },
    {
      "cell_type": "code",
      "execution_count": null,
      "metadata": {
        "colab": {
          "base_uri": "https://localhost:8080/"
        },
        "id": "dMjmZZOLE8Hi",
        "outputId": "63ce3e2c-26b9-4bcf-e040-7b3d2d672653"
      },
      "outputs": [],
      "source": [
        "round(len(df_investivel_eficiente[df_investivel_eficiente['eh_empresa_rentavel'] == 1])/len(df_investivel_eficiente), 2)"
      ]
    },
    {
      "cell_type": "markdown",
      "metadata": {
        "id": "XzPd8RooE0z3"
      },
      "source": [
        "* Das ações investíveis e eficientes, cerca de 58% está rentável"
      ]
    },
    {
      "cell_type": "markdown",
      "metadata": {
        "id": "P9ZsUzgunhOc"
      },
      "source": [
        "##### 4. A partir das investíveis e rentáveis, verificar se são eficientes ou baratas "
      ]
    },
    {
      "cell_type": "code",
      "execution_count": null,
      "metadata": {
        "id": "KB8a4T9gnmi3"
      },
      "outputs": [],
      "source": [
        "df_investivel_rentavel = df_investivel[df_investivel['eh_empresa_rentavel'] == 1]"
      ]
    },
    {
      "cell_type": "code",
      "execution_count": null,
      "metadata": {
        "colab": {
          "base_uri": "https://localhost:8080/",
          "height": 0
        },
        "id": "Uh53x-UanqiM",
        "outputId": "9ac8989d-c935-4fee-ec32-25f94c34f5dc"
      },
      "outputs": [],
      "source": [
        "fig, (ax1, ax2) = plt.subplots(1, 2, sharey=True, figsize=(8, 6))\n",
        "\n",
        "sns.countplot(data = df_investivel_rentavel,\n",
        "              x = 'eh_empresa_barata',\n",
        "              ax=ax1,\n",
        "              );\n",
        "\n",
        "sns.countplot(data = df_investivel_rentavel,\n",
        "              x = 'eh_empresa_eficiente',\n",
        "              ax=ax2,\n",
        "              );\n",
        "\n",
        "ax1.grid(alpha=.5)\n",
        "ax2.grid(alpha=.5)\n",
        "fig.suptitle('Ações Investíveis e Rentáveis - Eficiente x Barata');"
      ]
    },
    {
      "cell_type": "code",
      "execution_count": null,
      "metadata": {
        "colab": {
          "base_uri": "https://localhost:8080/"
        },
        "id": "S854NupQFKnh",
        "outputId": "a7eec776-c4d4-4dbe-f639-8c39e26e7b34"
      },
      "outputs": [],
      "source": [
        "round(len(df_investivel_rentavel[df_investivel_rentavel['eh_empresa_barata'] == 1])/len(df_investivel_rentavel), 2)"
      ]
    },
    {
      "cell_type": "markdown",
      "metadata": {
        "id": "meOqj_HcFQbY"
      },
      "source": [
        "* Das ações investíveis e rentáveis, cerca de 45% está barata"
      ]
    },
    {
      "cell_type": "code",
      "execution_count": null,
      "metadata": {
        "colab": {
          "base_uri": "https://localhost:8080/"
        },
        "id": "gPFv2K0WFLUH",
        "outputId": "c53c01ed-8a37-45de-b88e-3509b856fd49"
      },
      "outputs": [],
      "source": [
        "round(len(df_investivel_rentavel[df_investivel_rentavel['eh_empresa_eficiente'] == 1])/len(df_investivel_rentavel), 2)"
      ]
    },
    {
      "cell_type": "markdown",
      "metadata": {
        "id": "eKCyl6XRFTDW"
      },
      "source": [
        "* Das ações investíveis e rentáveis, cerca de 64% está eficiente"
      ]
    },
    {
      "cell_type": "markdown",
      "metadata": {
        "id": "iSYwL2yoe4RP"
      },
      "source": [
        "##### 5. A partir das investíveis, eficientes e rentáveis, verificar se são baratas"
      ]
    },
    {
      "cell_type": "code",
      "execution_count": null,
      "metadata": {
        "id": "fZYZMTOfe0uG"
      },
      "outputs": [],
      "source": [
        "df_investivel_eficiente_rentavel = df_investivel_eficiente[df_investivel_eficiente['eh_empresa_rentavel'] == 1]"
      ]
    },
    {
      "cell_type": "code",
      "execution_count": null,
      "metadata": {
        "colab": {
          "base_uri": "https://localhost:8080/",
          "height": 0
        },
        "id": "KdFvqaO3fZuG",
        "outputId": "ab9b4055-c0a6-434f-ad80-de54395ccdfd"
      },
      "outputs": [],
      "source": [
        "fig, ax1 = plt.subplots(1, 1, sharey=True, figsize=(8, 6))\n",
        "\n",
        "sns.countplot(data = df_investivel_eficiente_rentavel,\n",
        "              x = 'eh_empresa_barata',\n",
        "              ax=ax1,\n",
        "              );\n",
        "\n",
        "ax1.grid(alpha=.5)\n",
        "fig.suptitle('Ações Investíveis, Eficientes e Rentáveis - Baratas');"
      ]
    },
    {
      "cell_type": "code",
      "execution_count": null,
      "metadata": {
        "colab": {
          "base_uri": "https://localhost:8080/"
        },
        "id": "jDSAJhwzFad4",
        "outputId": "fb45d667-316b-4681-d1c7-313e93882b48"
      },
      "outputs": [],
      "source": [
        "round(len(df_investivel_eficiente_rentavel[df_investivel_eficiente_rentavel['eh_empresa_barata'] == 1])/len(df_investivel_eficiente_rentavel), 2)"
      ]
    },
    {
      "cell_type": "markdown",
      "metadata": {
        "id": "jHjvtgw3Fiye"
      },
      "source": [
        "* Das ações investíveis, eficientes e rentáveis, cerca de 48% está barata"
      ]
    },
    {
      "cell_type": "markdown",
      "metadata": {
        "id": "1T7n7F9GFqbq"
      },
      "source": [
        "##### 6. Ações investíveis, eficientes, rentáveis e baratas"
      ]
    },
    {
      "cell_type": "code",
      "execution_count": null,
      "metadata": {
        "id": "bY0Kmidgf-pf"
      },
      "outputs": [],
      "source": [
        "df_investivel_eficiente_rentavel_barata = df_investivel_eficiente_rentavel[df_investivel_eficiente_rentavel['eh_empresa_barata'] == 1]"
      ]
    },
    {
      "cell_type": "code",
      "execution_count": null,
      "metadata": {
        "id": "iB3xv6EgGfwa"
      },
      "outputs": [],
      "source": [
        "def plota(df):\n",
        "  # Tamanho do grafico\n",
        "  plt.figure(figsize = (10, 10))\n",
        "\n",
        "  # Plota os pontos do dataframe\n",
        "  sns.scatterplot(data = df,\n",
        "                  x = 'roe',\n",
        "                  y = 'dy',\n",
        "                  hue = df['setor_de_atuacao'],\n",
        "                  size = 'm_liquida',\n",
        "                  );\n",
        "\n",
        "  # Plota o texto do codigo da acao\n",
        "  for i in range(df.shape[0]):\n",
        "    plt.text(x = df['roe'][i] + abs(df['roe'][i]/500),\n",
        "              y = df['dy'][i] + abs(df['dy'][i]/500),\n",
        "              s = df.index[i],\n",
        "              fontstyle = 'italic',\n",
        "              fontweight = 'bold',\n",
        "              size = 12\n",
        "              )\n",
        "\n",
        "  plt.xlabel(r'ROE $\\longrightarrow$Melhor', fontweight = 'bold')\n",
        "  plt.ylabel(r'DY $\\longrightarrow$Melhor', fontweight = 'bold')\n",
        "  plt.title('As melhores e mais baratas ações de acordo com as classes definidas manualmente', fontweight = 'bold')"
      ]
    },
    {
      "cell_type": "code",
      "execution_count": null,
      "metadata": {
        "colab": {
          "base_uri": "https://localhost:8080/",
          "height": 0
        },
        "id": "gTqSDOrWHe6T",
        "outputId": "7df5401e-9af0-4d87-aeed-7fda74b7fa95"
      },
      "outputs": [],
      "source": [
        "plota(df_investivel_eficiente_rentavel_barata)"
      ]
    },
    {
      "cell_type": "markdown",
      "metadata": {
        "id": "wMB1c5shJ_lv"
      },
      "source": [
        "Após a filtragem feita, é interessante perceber que nem todos o setores estão presentes no gráfico, ou seja, algumas ações foram deixadas de fora e o setor não teria nenhum tipo de ação dita anteriormente. Com isso, será analisado cada setor separadamente, considerando apenas se a ação é investível."
      ]
    },
    {
      "cell_type": "markdown",
      "metadata": {
        "id": "5UGgZiKtXGpY"
      },
      "source": [
        "#### Pré-Análise Gráfica por Setor"
      ]
    },
    {
      "cell_type": "markdown",
      "metadata": {
        "id": "sQ6mIjNyoti0"
      },
      "source": [
        "##### Justificativa para dividir por setor"
      ]
    },
    {
      "cell_type": "markdown",
      "metadata": {
        "id": "c4NxB4ubGu8d"
      },
      "source": [
        "1. Usar apenas as ações investíveis para deixar apenas as ações essenciais e comparar os indicadores.\n",
        "2. Dividir de acordo com cada setor e analisar separadamente, porque deve-se comparar sempre ações que estão no mesmo nicho para que essa comparação seja justa e o resultado faça sentido."
      ]
    },
    {
      "cell_type": "code",
      "execution_count": null,
      "metadata": {
        "id": "gd43_uabm9Yf"
      },
      "outputs": [],
      "source": [
        "df_grafico = df_investivel.copy()"
      ]
    },
    {
      "cell_type": "markdown",
      "metadata": {
        "id": "MTJSAbJ8o0Em"
      },
      "source": [
        "##### Função para dividir por setor"
      ]
    },
    {
      "cell_type": "code",
      "execution_count": null,
      "metadata": {
        "colab": {
          "base_uri": "https://localhost:8080/"
        },
        "id": "3At8r7H1ATVP",
        "outputId": "a94a3551-c477-4b7e-dd55-2b21205416fa"
      },
      "outputs": [],
      "source": [
        "# Faz o setor de atuacao virar uma chave em lower case, sem espaco, sem acento \n",
        "clean_key = lambda k: unidecode(k).lower().replace(' ','_')\n",
        "\n",
        "# Dicionario que a chave eh o setor e o valor eh um dataframe com as acoes desse setor\n",
        "dict_groupby_setor = {clean_key(k):v for k, v in df_grafico.groupby(['setor_de_atuacao'])}\n",
        "\n",
        "# Ver tamanho de cada dataframe\n",
        "dict_groupby_setor_sizes = {k:len(v) for k, v in dict_groupby_setor.items()}\n",
        "\n",
        "# Ordena o tamanho de cada dataframe\n",
        "sorted(dict_groupby_setor_sizes.items(), key = lambda item: item[1])"
      ]
    },
    {
      "cell_type": "markdown",
      "metadata": {
        "id": "qv8s8FiNw34D"
      },
      "source": [
        "##### Aplicação para dividir por setor"
      ]
    },
    {
      "cell_type": "code",
      "execution_count": null,
      "metadata": {
        "id": "kNtsPGK2Okvm"
      },
      "outputs": [],
      "source": [
        "# Cria um dataframe para cada setor -> analisar separadamente\n",
        "df_bens_industriais = dict_groupby_setor['bens_industriais']\n",
        "df_comunicacoes = dict_groupby_setor['comunicacoes']\n",
        "df_consumo_ciclico = dict_groupby_setor['consumo_ciclico']\n",
        "df_consumo_nao_ciclico = dict_groupby_setor['consumo_nao_ciclico']\n",
        "df_financeiro_e_outros = dict_groupby_setor['financeiro_e_outros']\n",
        "df_materiais_basicos = dict_groupby_setor['materiais_basicos']\n",
        "df_petroleo_gas_e_biocombustiveis = dict_groupby_setor['petroleo_gas_e_biocombustiveis']\n",
        "df_saude = dict_groupby_setor['saude']\n",
        "df_tecnologia_da_informacao = dict_groupby_setor['tecnologia_da_informacao']\n",
        "df_utilidade_publica = dict_groupby_setor['utilidade_publica']"
      ]
    },
    {
      "cell_type": "code",
      "execution_count": null,
      "metadata": {
        "colab": {
          "base_uri": "https://localhost:8080/",
          "height": 237
        },
        "id": "PoNpVNKIOpmA",
        "outputId": "1a6b9c60-cdf6-43c0-afe2-d4bc494c13df"
      },
      "outputs": [],
      "source": [
        "df_comunicacoes"
      ]
    },
    {
      "cell_type": "code",
      "execution_count": null,
      "metadata": {
        "colab": {
          "base_uri": "https://localhost:8080/",
          "height": 515
        },
        "id": "awS_v3UtxUHf",
        "outputId": "985cf6af-35d9-4aa7-ad74-f1bfaa3a5774"
      },
      "outputs": [],
      "source": [
        "df_saude"
      ]
    },
    {
      "cell_type": "markdown",
      "metadata": {
        "id": "e4D1x4HjjN9I"
      },
      "source": [
        "##### _Scatterplot_ para comparar indicadores por setor"
      ]
    },
    {
      "cell_type": "code",
      "execution_count": null,
      "metadata": {
        "id": "NQmDNVufjMxn"
      },
      "outputs": [],
      "source": [
        "def scatterplot_indicadores_df(df, indicador1, indicador2, indicador3):\n",
        "  width = 12\n",
        "  height = 9\n",
        "  \n",
        "  # Tamanho do grafico\n",
        "  plt.figure(figsize = (width, height))\n",
        "\n",
        "  # Plota os pontos do dataframe\n",
        "  sns.scatterplot(data = df,\n",
        "                  x = indicador1,\n",
        "                  y = indicador2,\n",
        "                  hue = df.index,\n",
        "                  size = indicador3,\n",
        "                  );\n",
        "  # plt.axis('scaled')\n",
        "  # Plota o texto do codigo da acao\n",
        "  for i in range(df.shape[0]):\n",
        "    plt.text(x = df[indicador1][i] + abs(df[indicador1][i]/500),\n",
        "             y = df[indicador2][i] + abs(df[indicador2][i]/500),\n",
        "             s = df.index[i],\n",
        "             fontstyle = 'italic',\n",
        "             fontweight = 'bold',\n",
        "             size = 12\n",
        "             )\n",
        "\n",
        "\n",
        "  # dy, m_ebitda, m_liquida, roe, roa, cagr_receitas_5_anos, cagr_lucros_5_anos\n",
        "  maior_melhor = ['dy', 'm_ebitda', 'm_liquida', 'roe', 'roa', 'cagr_receitas_5_anos', 'cagr_lucros_5_anos']\n",
        "  \n",
        "  if indicador1 in maior_melhor:\n",
        "    xlabel_text = indicador1.upper() + r'$\\longrightarrow$Melhor'\n",
        "  else:\n",
        "    xlabel_text = r'Melhor$\\longleftarrow$' + indicador1.upper()\n",
        "  \n",
        "  if indicador2 in maior_melhor:\n",
        "    ylabel_text = indicador2.upper() + r'$\\longrightarrow$Melhor'\n",
        "  else:\n",
        "    ylabel_text = r'Melhor$\\longleftarrow$' + indicador2.upper()\n",
        "\n",
        "\n",
        "  plt.xlabel(xlabel_text, fontweight = 'bold')\n",
        "  plt.ylabel(ylabel_text, fontweight = 'bold')\n",
        "  plt.title('Ações investíveis do setor de ' + str(df['setor_de_atuacao'][0]), fontweight = 'bold')"
      ]
    },
    {
      "cell_type": "markdown",
      "metadata": {
        "id": "NO-i6ws3VAzu"
      },
      "source": [
        "#### Análise gráfica por setor"
      ]
    },
    {
      "cell_type": "markdown",
      "metadata": {
        "id": "54kRpDzGp-o_"
      },
      "source": [
        "Objetivo: **Escolher 2 ações de cada setor**\n",
        "\n"
      ]
    },
    {
      "cell_type": "code",
      "execution_count": null,
      "metadata": {
        "colab": {
          "base_uri": "https://localhost:8080/"
        },
        "id": "Bky8WUzfp67j",
        "outputId": "6e210828-9cd1-42e4-ac17-8a49664e1414"
      },
      "outputs": [],
      "source": [
        "sorted(dict_groupby_setor_sizes.items(), key = lambda item: item[1])"
      ]
    },
    {
      "cell_type": "markdown",
      "metadata": {
        "id": "BoBpzZAeqUra"
      },
      "source": [
        "##### Comunicações"
      ]
    },
    {
      "cell_type": "markdown",
      "metadata": {
        "id": "03_NT7ag4L8x"
      },
      "source": [
        "###### Gráficos"
      ]
    },
    {
      "cell_type": "code",
      "execution_count": null,
      "metadata": {
        "colab": {
          "base_uri": "https://localhost:8080/",
          "height": 571
        },
        "id": "ZjpvYFPZrVic",
        "outputId": "70be8258-a52f-415a-8b72-123f0b129afd"
      },
      "outputs": [],
      "source": [
        "scatterplot_indicadores_df(df_comunicacoes, 'peg_ratio', 'div_liquida/ebitda', 'roe')"
      ]
    },
    {
      "cell_type": "code",
      "execution_count": null,
      "metadata": {
        "colab": {
          "base_uri": "https://localhost:8080/",
          "height": 569
        },
        "id": "GTco2hYXru6k",
        "outputId": "006954ec-d1b4-44e3-bb63-9044756225e0"
      },
      "outputs": [],
      "source": [
        "scatterplot_indicadores_df(df_comunicacoes, 'roe', 'm_liquida', 'dy')"
      ]
    },
    {
      "cell_type": "markdown",
      "metadata": {
        "id": "nKOdDGyf4PEh"
      },
      "source": [
        "###### Análise"
      ]
    },
    {
      "cell_type": "markdown",
      "metadata": {
        "id": "abqkQVQWK6r4"
      },
      "source": [
        "* No setor de Comunicações, as 2 ações escolhidas foram: **TIMP3 e VIVT3**\n",
        "\n",
        "* Foi simples escolher as ações, pois há somente 2 ações investíveis.\n",
        "\n",
        "* No entanto, vale comparar a diferença entre elas\n",
        "  * TIMP3 está um pouco mais eficiente e rentável do que a VIVT3\n",
        "  * VIVT3 está com o _dividend yield_ mais alto, pois ela é mais madura do que a TIMP3"
      ]
    },
    {
      "cell_type": "markdown",
      "metadata": {
        "id": "vb70jlkEqZeG"
      },
      "source": [
        "##### Tecnologia e Informação"
      ]
    },
    {
      "cell_type": "markdown",
      "metadata": {
        "id": "M0YKk_7t4Ri6"
      },
      "source": [
        "###### Gráficos"
      ]
    },
    {
      "cell_type": "code",
      "execution_count": null,
      "metadata": {
        "colab": {
          "base_uri": "https://localhost:8080/",
          "height": 571
        },
        "id": "V65Gxa_fqL34",
        "outputId": "08fe9504-e11b-473a-c0b7-996c7a8bc57f"
      },
      "outputs": [],
      "source": [
        "scatterplot_indicadores_df(df_tecnologia_da_informacao, 'peg_ratio', 'div_liquida/ebitda', 'roe')"
      ]
    },
    {
      "cell_type": "code",
      "execution_count": null,
      "metadata": {
        "colab": {
          "base_uri": "https://localhost:8080/",
          "height": 569
        },
        "id": "n3LvtBWI-4C8",
        "outputId": "d3ee6ac2-2274-4d93-f675-0c2fe3bbfd4a"
      },
      "outputs": [],
      "source": [
        "scatterplot_indicadores_df(df_tecnologia_da_informacao, 'roe', 'm_liquida', 'dy')"
      ]
    },
    {
      "cell_type": "markdown",
      "metadata": {
        "id": "0cvMzrS54Q8N"
      },
      "source": [
        "###### Análise"
      ]
    },
    {
      "cell_type": "markdown",
      "metadata": {
        "id": "DqAOLrAYLkCE"
      },
      "source": [
        "* No setor de Tecnologia e Informação, as 2 ações escolhidas foram: **SQIA3 e TOTS3**\n",
        "\n",
        "* Foi simples escolher as ações, pois há somente 2 ações investíveis.\n",
        "\n",
        "* No entanto, vale comparar a diferença entre elas\n",
        "  * SQIA3 está mais barata, porém menos eficiente e rentável do que TOTS3\n",
        "  * O _dividend yield_ das duas é tão baixo que nem vale a pena comparar\n",
        "\n"
      ]
    },
    {
      "cell_type": "markdown",
      "metadata": {
        "id": "RWlsdyNtqePr"
      },
      "source": [
        "##### Petróleo Gás e Biocombustíveis"
      ]
    },
    {
      "cell_type": "markdown",
      "metadata": {
        "id": "IrRjm92i4SUO"
      },
      "source": [
        "###### Gráficos"
      ]
    },
    {
      "cell_type": "code",
      "execution_count": null,
      "metadata": {
        "colab": {
          "base_uri": "https://localhost:8080/",
          "height": 571
        },
        "id": "dtITAQFS--WR",
        "outputId": "a0fcb94b-5235-4c01-e90d-ef5bfe5f4d03"
      },
      "outputs": [],
      "source": [
        "scatterplot_indicadores_df(df_petroleo_gas_e_biocombustiveis, 'peg_ratio', 'div_liquida/ebitda', 'roe')"
      ]
    },
    {
      "cell_type": "code",
      "execution_count": null,
      "metadata": {
        "colab": {
          "base_uri": "https://localhost:8080/",
          "height": 569
        },
        "id": "-htaXMwh_Aqh",
        "outputId": "adf9dbed-998b-430c-85b5-0b91e0a89f3a"
      },
      "outputs": [],
      "source": [
        "scatterplot_indicadores_df(df_petroleo_gas_e_biocombustiveis, 'roe', 'm_liquida', 'dy')"
      ]
    },
    {
      "cell_type": "markdown",
      "metadata": {
        "id": "X_n9PxZ04Y7N"
      },
      "source": [
        "###### Análise"
      ]
    },
    {
      "cell_type": "markdown",
      "metadata": {
        "id": "25Go1NqGMI4O"
      },
      "source": [
        "* No setor de Petróleo Gás e Biocombustíveis, as 2 ações escolhidas foram: **ENAT3 e PRIO3**\n",
        "\n",
        "* Foi simples escolher as ações, pois há somente 2 ações investíveis.\n",
        "\n",
        "* No entanto, vale comparar a diferença entre elas\n",
        "  * ENAT3 está mais barata, porém tem menos caixa do que PRIO3\n",
        "  * ENAT3 está mais eficiente e rentável do que PRIO3\n",
        "\n"
      ]
    },
    {
      "cell_type": "markdown",
      "metadata": {
        "id": "lLBmFNfvqnOX"
      },
      "source": [
        "##### Materiais Básicos"
      ]
    },
    {
      "cell_type": "markdown",
      "metadata": {
        "id": "MYnAfA_S4SzU"
      },
      "source": [
        "###### Gráficos"
      ]
    },
    {
      "cell_type": "code",
      "execution_count": null,
      "metadata": {
        "colab": {
          "base_uri": "https://localhost:8080/",
          "height": 571
        },
        "id": "oYtW-a-o_C51",
        "outputId": "04735472-d903-446e-e997-f87cd8ce70fd"
      },
      "outputs": [],
      "source": [
        "scatterplot_indicadores_df(df_materiais_basicos, 'peg_ratio', 'div_liquida/ebitda', 'roe')"
      ]
    },
    {
      "cell_type": "code",
      "execution_count": null,
      "metadata": {
        "colab": {
          "base_uri": "https://localhost:8080/",
          "height": 569
        },
        "id": "qgCpfR52_FiL",
        "outputId": "4cef45b2-8e57-4832-e10a-162ae6f99cdb"
      },
      "outputs": [],
      "source": [
        "scatterplot_indicadores_df(df_materiais_basicos, 'roe', 'm_liquida', 'dy')"
      ]
    },
    {
      "cell_type": "markdown",
      "metadata": {
        "id": "SjePPmwZ4ZnV"
      },
      "source": [
        "###### Análise"
      ]
    },
    {
      "cell_type": "markdown",
      "metadata": {
        "id": "9bXq_fh2Mlp6"
      },
      "source": [
        "* No setor de Materiais Básicos, as 2 ações escolhidas foram: **VALE3 e UNIP3**\n",
        "\n",
        "* Serão escolhidas as 2 melhores ações dentre as 4 que ficaram.\n",
        "\n",
        "* De acordo com o gráfico, é nítido as 2 melhores ações: VALE3 e UNIP3\n",
        "\n",
        "* Comparando a diferença entre elas\n",
        "  * VALE3 e UNIP3 estão mais baratas, mais eficientes e mais rentáveis do que EUCA3 e DTEX3\n",
        "\n"
      ]
    },
    {
      "cell_type": "markdown",
      "metadata": {
        "id": "DJhYMmTaqwLX"
      },
      "source": [
        "##### Consumo Não Cíclico"
      ]
    },
    {
      "cell_type": "markdown",
      "metadata": {
        "id": "pX5CUGYO4TaG"
      },
      "source": [
        "###### Gráficos"
      ]
    },
    {
      "cell_type": "code",
      "execution_count": null,
      "metadata": {
        "colab": {
          "base_uri": "https://localhost:8080/",
          "height": 571
        },
        "id": "WlQAvrzCrIXB",
        "outputId": "d526f2f3-24ab-4f98-e888-f5412511a72c"
      },
      "outputs": [],
      "source": [
        "scatterplot_indicadores_df(df_consumo_nao_ciclico, 'peg_ratio', 'div_liquida/pl', 'roe')"
      ]
    },
    {
      "cell_type": "code",
      "execution_count": null,
      "metadata": {
        "colab": {
          "base_uri": "https://localhost:8080/",
          "height": 569
        },
        "id": "1Vox3q-7_J1I",
        "outputId": "e0e54168-d5dd-4da8-91fd-1ebf0691270d"
      },
      "outputs": [],
      "source": [
        "scatterplot_indicadores_df(df_consumo_nao_ciclico, 'roe', 'm_liquida', 'dy')"
      ]
    },
    {
      "cell_type": "markdown",
      "metadata": {
        "id": "pn-qNnxT4abF"
      },
      "source": [
        "###### Análise"
      ]
    },
    {
      "cell_type": "markdown",
      "metadata": {
        "id": "lf8e5B6qNP2h"
      },
      "source": [
        "* No setor de Consumo Não Cíclico, as 2 ações escolhidas foram: **AGRO3 e SLCE3**\n",
        "\n",
        "* Serão escolhidas as 2 melhores ações dentre as 6 que ficaram.\n",
        "\n",
        "* As mais baratas ficaram CAML3 e NTCO3, porém não são tão eficientes nem rentávies.\n",
        "\n",
        "* As mais eficientes e rentáveis foram AGRO3 e SLCE3, sendo que estão um pouco mais caras que CAML3 e NTCO3, ou seja, elas são as escolhidas.\n",
        "\n",
        "\n"
      ]
    },
    {
      "cell_type": "markdown",
      "metadata": {
        "id": "HWiUUxKcq0UT"
      },
      "source": [
        "##### Bens Industriais"
      ]
    },
    {
      "cell_type": "markdown",
      "metadata": {
        "id": "HR-MthuZ4T_i"
      },
      "source": [
        "###### Gráficos"
      ]
    },
    {
      "cell_type": "code",
      "execution_count": null,
      "metadata": {
        "colab": {
          "base_uri": "https://localhost:8080/",
          "height": 571
        },
        "id": "FDJI9zpKrKJy",
        "outputId": "f14f230c-2e3b-4665-c1be-7f89ec2acad9"
      },
      "outputs": [],
      "source": [
        "scatterplot_indicadores_df(df_bens_industriais, 'peg_ratio', 'div_liquida/ebitda', 'roe')"
      ]
    },
    {
      "cell_type": "code",
      "execution_count": null,
      "metadata": {
        "colab": {
          "base_uri": "https://localhost:8080/",
          "height": 569
        },
        "id": "dsywhnFB_P_l",
        "outputId": "9a614634-03f3-4a53-8f9e-7c7e12b2ab6d"
      },
      "outputs": [],
      "source": [
        "scatterplot_indicadores_df(df_bens_industriais, 'roe', 'm_liquida', 'dy')"
      ]
    },
    {
      "cell_type": "markdown",
      "metadata": {
        "id": "Ga5JVqYC4bLU"
      },
      "source": [
        "###### Análise"
      ]
    },
    {
      "cell_type": "markdown",
      "metadata": {
        "id": "XLGBAc_EzJi0"
      },
      "source": [
        "* No setor de Bens Industriais, as 2 ações escolhidas foram: **TGMA3 e WEGE3**\n",
        "\n",
        "* Serão escolhidas as 2 melhores ações dentre as 6 que ficaram.\n",
        "\n",
        "* As mais baratas ficaram sendo TUPY3, HAGA3, TGMA3, no entanto, a HAGA3 é bem eficiente, mas não é rentável; TUPY3 é pouco eficiente e pouco rentável; e TGMA3 é um pouco mais eficiente e rentáveldo que TUPY3. Entre as 3, a melhor delas por estar mais barata, eficiente e rentável é a TGMA3.\n",
        "\n",
        "* As mais caras ficaram sendo CARD3, WEGE3, FRAS3, no entanto, a melhor em eficiência e rentabilidade é a WEGE3, além de estar mais barata do que a FRAS3. Entre as 3, a que está com preço mais equilibrado, é eficiente e rentável, é a WEGE3."
      ]
    },
    {
      "cell_type": "markdown",
      "metadata": {
        "id": "AORqWFywq1ne"
      },
      "source": [
        "##### Saúde"
      ]
    },
    {
      "cell_type": "markdown",
      "metadata": {
        "id": "8xOI1VmM4Ulg"
      },
      "source": [
        "###### Gráficos"
      ]
    },
    {
      "cell_type": "code",
      "execution_count": null,
      "metadata": {
        "colab": {
          "base_uri": "https://localhost:8080/",
          "height": 571
        },
        "id": "tQ5aUUTirM_f",
        "outputId": "d3694965-c64a-4754-e43f-44eeb8d2903e"
      },
      "outputs": [],
      "source": [
        "scatterplot_indicadores_df(df_saude, 'peg_ratio', 'div_liquida/ebitda', 'roe')"
      ]
    },
    {
      "cell_type": "code",
      "execution_count": null,
      "metadata": {
        "colab": {
          "base_uri": "https://localhost:8080/",
          "height": 569
        },
        "id": "OeSiLmwo_UoU",
        "outputId": "a4275d22-959d-486a-b4ac-88ae879c9b69"
      },
      "outputs": [],
      "source": [
        "scatterplot_indicadores_df(df_saude, 'roe', 'm_liquida', 'dy')"
      ]
    },
    {
      "cell_type": "markdown",
      "metadata": {
        "id": "p5FwxDt04cND"
      },
      "source": [
        "###### Análise"
      ]
    },
    {
      "cell_type": "markdown",
      "metadata": {
        "id": "MXL4IwQx0WJU"
      },
      "source": [
        "* No setor de Saúde, as 2 ações escolhidas foram: **PARD3 e ODPV3**\n",
        "\n",
        "* Serão escolhidas as 2 melhores ações dentre as 7 que ficaram.\n",
        "\n",
        "* PARD3 e ODPV3 estão entre as melhores de eficiência e rentabilidade, além de terem pouca ou nenhuma dívida e não estarem caras."
      ]
    },
    {
      "cell_type": "markdown",
      "metadata": {
        "id": "xCz6xK2hq2rS"
      },
      "source": [
        "##### Utilidade Pública"
      ]
    },
    {
      "cell_type": "markdown",
      "metadata": {
        "id": "2Ch4Q39Y4VMs"
      },
      "source": [
        "###### Gráficos"
      ]
    },
    {
      "cell_type": "code",
      "execution_count": null,
      "metadata": {
        "colab": {
          "base_uri": "https://localhost:8080/",
          "height": 571
        },
        "id": "iJKOtdUprOz0",
        "outputId": "ac65c3b2-3f25-4b8d-9102-27bc2aefe57a"
      },
      "outputs": [],
      "source": [
        "scatterplot_indicadores_df(df_utilidade_publica, 'peg_ratio', 'div_liquida/ebitda', 'roe')"
      ]
    },
    {
      "cell_type": "code",
      "execution_count": null,
      "metadata": {
        "colab": {
          "base_uri": "https://localhost:8080/",
          "height": 569
        },
        "id": "V8MQtdr8_fGl",
        "outputId": "a13a5035-60c7-4137-f7ff-f30f68a50853"
      },
      "outputs": [],
      "source": [
        "scatterplot_indicadores_df(df_utilidade_publica, 'roe', 'm_liquida', 'dy')"
      ]
    },
    {
      "cell_type": "markdown",
      "metadata": {
        "id": "IXoCWKRv4cz0"
      },
      "source": [
        "###### Análise"
      ]
    },
    {
      "cell_type": "markdown",
      "metadata": {
        "id": "Rm9YHlLn1bKL"
      },
      "source": [
        "* No setor de Utilidade Pública, as 2 ações escolhidas foram: **CPLE3 e EQPA3**\n",
        "\n",
        "* Serão escolhidas as 2 melhores ações dentre as 9 que ficaram.\n",
        "\n",
        "* Inicialmente, pode-se verificar que CPLE3 está sem dívida, barata, é eficiente e rentável.\n",
        "\n",
        "* TAEE3 é muito eficiente e rentável, porém o _PEG Ratio_ está negativo, ou seja, o lucro está caindo, e ela não está barata.\n",
        "\n",
        "* EQPA3 é bem rentável e um pouco eficiente, além de não estar cara, e sem dívida, ou seja, é uma boa escolha."
      ]
    },
    {
      "cell_type": "markdown",
      "metadata": {
        "id": "O0hhk-4Zq4gb"
      },
      "source": [
        "##### Consumo Cíclico"
      ]
    },
    {
      "cell_type": "markdown",
      "metadata": {
        "id": "tpa7gOUz4VyC"
      },
      "source": [
        "###### Gráficos"
      ]
    },
    {
      "cell_type": "code",
      "execution_count": null,
      "metadata": {
        "colab": {
          "base_uri": "https://localhost:8080/",
          "height": 571
        },
        "id": "wThTTYUr_iTk",
        "outputId": "e0986e98-8924-4715-e335-d7f7c036b7a3"
      },
      "outputs": [],
      "source": [
        "scatterplot_indicadores_df(df_consumo_ciclico, 'peg_ratio', 'div_liquida/ebitda', 'roe')"
      ]
    },
    {
      "cell_type": "code",
      "execution_count": null,
      "metadata": {
        "colab": {
          "base_uri": "https://localhost:8080/",
          "height": 569
        },
        "id": "g1migqGB_ll4",
        "outputId": "6a8713f7-0fe4-49f1-afef-0bd1c9efb895"
      },
      "outputs": [],
      "source": [
        "scatterplot_indicadores_df(df_consumo_ciclico, 'roe', 'm_liquida', 'dy')"
      ]
    },
    {
      "cell_type": "markdown",
      "metadata": {
        "id": "cEARh9mZ4dYe"
      },
      "source": [
        "###### Análise"
      ]
    },
    {
      "cell_type": "markdown",
      "metadata": {
        "id": "souMaxy22Wmk"
      },
      "source": [
        "* No setor de Consumo Cíclico, as 2 ações escolhidas foram: **CGRA3 e LEVE3**\n",
        "\n",
        "* Serão escolhidas as 2 melhores ações dentre as 14 que ficaram.\n",
        "\n",
        "* CGRA3 é eficiente e rentável, não tem dívida e está barata.\n",
        "\n",
        "* LEVE3 é menos eficiente do que CGRA3 e mais rentável, não tem dívida e também está barata."
      ]
    },
    {
      "cell_type": "markdown",
      "metadata": {
        "id": "_gwLyDj2q57z"
      },
      "source": [
        "##### Financeiro e Outros"
      ]
    },
    {
      "cell_type": "markdown",
      "metadata": {
        "id": "-A66R7Ip4WOa"
      },
      "source": [
        "###### Gráficos"
      ]
    },
    {
      "cell_type": "code",
      "execution_count": null,
      "metadata": {
        "colab": {
          "base_uri": "https://localhost:8080/",
          "height": 571
        },
        "id": "VVuUJMomrRtn",
        "outputId": "76fbb8fd-f696-4117-8a66-22189382b32e"
      },
      "outputs": [],
      "source": [
        "scatterplot_indicadores_df(df_financeiro_e_outros, 'peg_ratio', 'roe', 'dy')"
      ]
    },
    {
      "cell_type": "code",
      "execution_count": null,
      "metadata": {
        "colab": {
          "base_uri": "https://localhost:8080/",
          "height": 569
        },
        "id": "Zqc-Ld9c_te3",
        "outputId": "7c153cfd-67cd-4adf-eea9-713eb8e87b2c"
      },
      "outputs": [],
      "source": [
        "scatterplot_indicadores_df(df_financeiro_e_outros, 'roe', 'm_liquida', 'peg_ratio')"
      ]
    },
    {
      "cell_type": "markdown",
      "metadata": {
        "id": "E4N9bnRd4eI-"
      },
      "source": [
        "###### Análise"
      ]
    },
    {
      "cell_type": "markdown",
      "metadata": {
        "id": "44tIbLUY269I"
      },
      "source": [
        "* No setor de Financeiro e Outros, as 2 ações escolhidas foram: **ITSA3 e B3SA3**\n",
        "\n",
        "* No setor de bens industriais, deve-se escolher as 2 melhores ações dentre as 14 que ficaram.\n",
        "\n",
        "* As mais eficientes e rentáveis são LOGG3, ITSA3 e B3SA3. No entanto, B3SA3 está cara em relação a elas, porém é a mais rentável. ITSA3 está bem equilibrada em comparação às três ações."
      ]
    },
    {
      "cell_type": "markdown",
      "metadata": {
        "id": "6zAFItt6SifF"
      },
      "source": [
        "#### Melhores ações de cada setor"
      ]
    },
    {
      "cell_type": "markdown",
      "metadata": {
        "id": "9GE9-1y5Snpz"
      },
      "source": [
        "* Comunicações: TIMS3 e VIVT3\n",
        "* Tecnologia e Informação: SQIA3 e TOTS3\n",
        "* Petróleo Gás e Biocombustíveis: ENAT3 e PRIO3\n",
        "* Materiais Básicos: VALE3 e UNIP3\n",
        "* Consumo Não Cíclico: AGRO3 e SLCE3\n",
        "* Bens Industriais: TGMA3 e WEGE3\n",
        "* Saúde: PARD3 e ODPV3\n",
        "* Utilidade Pública: CPLE3 e EQPA3\n",
        "* Consumo Cíclico: CGRA3 e LEVE3\n",
        "* Financeiro e Outros: ITSA3 e B3SA3"
      ]
    },
    {
      "cell_type": "markdown",
      "metadata": {
        "id": "uiSiSMkNw3QE"
      },
      "source": [
        "## 6. Conclusões e Discussões"
      ]
    },
    {
      "cell_type": "markdown",
      "metadata": {
        "id": "DfvTgKxd5kfM"
      },
      "source": [
        "A partir das análises feitas e os resultados obtidos, pode-se perceber que a análise foi feita mais qualitativamente do que quantitativamente, pois as categorias das empresas definidas durante a metodologia são baseadas em pesquisas externas, usando livros de investimento e outras fontes que dizem quando uma empresa é boa ou não para investir. Com isso, o estudo tem como viés as fontes utilizadas e também a forma como os dados foram padronizados, pois pode haver erro.\n",
        "\n",
        "As categorias que a _Decision Tree_ tinha que predizer foram criadas a partir dos próprios dados. Com isso, a _Decision Tree_ buscou a classificação do que é uma \"empresa investível\"; ou seja, quando todos os dados que definiam uma categoria foram colocados como entrada para a _Decision Tree_, ela conseguiu classificar com 100% de certeza. Isso é devido ao viés de criar a categoria a partir dos mesmos dados que a árvore usa pra classificar, ou seja, deveria ter criado as categorias a partir de dados externos.\n",
        "\n",
        "A visualização gráfica foi bem útil para comparar as ações de setores diferentes, ao invés de somente fazer uma função que escolha as melhores. É importante lembrar que as ações foram comparadas com as concorrentes do seu setor e foi oportuno fazer essa verificação visualmente. Cabe salientar que há uma taxa maior de erro na hora de escolher as melhores, mas, ainda assim, é adequado, pois é possível consultar de novo e mais vezes os gráficos e comparar outros indicadores.\n",
        "\n",
        "A partir do projeto feito, devido ao problema da _Decision Tree_ e a comparação apenas visual das ações do mesmo setor, utilizarei o mesmo como molde para um projeto futuro onde usarei os dados de anos anteriores e farei a análise de forma mais robusta. Assim sendo, será possível validar se as ações escolhidas foram boas realmente ou não, e, quem sabe, desenvolver um algoritmo de predição para as melhores ações de cada setor da Ibovespa."
      ]
    },
    {
      "cell_type": "markdown",
      "metadata": {
        "id": "5eGKhZRZK2ac"
      },
      "source": [
        "## 7. Referências"
      ]
    },
    {
      "cell_type": "markdown",
      "metadata": {
        "id": "VZ59bXbrK3qz"
      },
      "source": [
        "Aulas\n",
        "\n",
        "* Aulas 1 a 5\n",
        "* Aulas 16, 18, 20\n",
        "\n",
        "Pesquisa - Python\n",
        "\n",
        "* https://seaborn.pydata.org/generated/seaborn.barplot.html\n",
        "\n",
        "* https://seaborn.pydata.org/generated/seaborn.displot.html\n",
        "\n",
        "* https://seaborn.pydata.org/generated/seaborn.catplot.html\n",
        "\n",
        "* https://seaborn.pydata.org/generated/seaborn.countplot.html\n",
        "\n",
        "* https://seaborn.pydata.org/generated/seaborn.scatterplot.html\n",
        "\n",
        "* https://seaborn.pydata.org/tutorial/color_palettes.html\n",
        "\n",
        "* https://seaborn.pydata.org/examples/index.html\n",
        "\n",
        "* https://medium.com/@vladbezden/how-to-set-seaborn-plot-size-in-jupyter-notebook-63ffb1415431\n",
        "\n",
        "* https://stackoverflow.com/questions/46027653/adding-labels-in-x-y-scatter-plot-with-seaborn\n",
        "\n",
        "* https://towardsdatascience.com/how-to-add-text-labels-to-scatterplot-in-matplotlib-seaborn-ec5df6afed7a\n",
        "\n",
        "* https://matplotlib.org/3.5.1/api/_as_gen/matplotlib.pyplot.text.html\n",
        "\n",
        "* https://matplotlib.org/stable/api/_as_gen/matplotlib.pyplot.arrow.html\n",
        "\n",
        "* https://matplotlib.org/3.5.1/api/_as_gen/matplotlib.pyplot.annotate.html\n",
        "\n",
        "* https://scikit-learn.org/stable/modules/generated/sklearn.tree.DecisionTreeClassifier.html\n",
        "\n",
        "Pesquisa/Estudo - Investimentos\n",
        "\n",
        "* https://capitalizo.com.br/small-caps-blue-chips-e-micro-caps-entenda-as-diferencas/\n",
        "\n",
        "* Aswath Damoran - Valuation, Como Avaliar Empresas e Escolher as Melhores Ações\n",
        "\n",
        "* Suno - Aprenda a investir em dividendos\n",
        "\n",
        "* Gustavo Cerbasi - Investimentos inteligentes"
      ]
    }
  ],
  "metadata": {
    "colab": {
      "collapsed_sections": [
        "jv4Er8jxPiS3",
        "Kp7z9O5nPnOQ",
        "Nqnx6LwNPvkY",
        "AQ-PxTQJsAUk",
        "r3-3s9tnbTQ3",
        "eOdii6qB9loN",
        "HM0i1Cyaupuj",
        "Cpq95zy6CDt8",
        "FxS2sWVTzwvT",
        "oB7t8q3wxIiS",
        "Bo3i3WaOAkhP",
        "foa2Cg7-xO-q",
        "voSkTSoz1TIy",
        "0hf6_bGp1XQ8",
        "1NYXBYBl1Eix",
        "Im1438x5EZwM",
        "fo4OKhtTEipd",
        "1nwMX8_iEmdq",
        "_pvelW58FpoD",
        "ZmmNqAPtKDXf",
        "wdz1qqVt68rf",
        "9xJeelK07Ewo",
        "HR9mqTms_FwF",
        "803OGhf4kZCt",
        "G072a9kZ9HNS",
        "eoPQMHO_9H5C",
        "-Kqy66y99IZE",
        "4_OYdMvK9I4x",
        "MnyU2Ewp9Jfx",
        "zVq-iI-I_yRl",
        "6B29JBbeAjNe",
        "iHr1-pVEAnOp",
        "lGEVQacpA0Ab",
        "3AC_r-UfSTEH",
        "hnsbS2KYTPqX",
        "3rSAxtLiUNpr",
        "9da9pcy0cDIZ",
        "P9ZsUzgunhOc",
        "iSYwL2yoe4RP",
        "D9bpt5O8w5Ok",
        "uiSiSMkNw3QE",
        "5eGKhZRZK2ac"
      ],
      "name": "Projeto_Final_CD_Daniel.ipynb",
      "provenance": [],
      "toc_visible": true
    },
    "kernelspec": {
      "display_name": "Python 3.11.0 64-bit",
      "language": "python",
      "name": "python3"
    },
    "language_info": {
      "name": "python",
      "version": "3.11.0 (main, Oct 24 2022, 18:26:48) [MSC v.1933 64 bit (AMD64)]"
    },
    "vscode": {
      "interpreter": {
        "hash": "b92c64ddd97bd75b75879c676e53789d19cf25aafb287fcc8a3273f02b13a1d2"
      }
    }
  },
  "nbformat": 4,
  "nbformat_minor": 0
}
